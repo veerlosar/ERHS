{
 "cells": [
  {
   "cell_type": "code",
   "execution_count": 1,
   "metadata": {},
   "outputs": [],
   "source": [
    "import arff\n",
    "import numpy as np\n",
    "import pandas as pd\n",
    "import os\n",
    "import subprocess\n",
    "import matplotlib.pyplot as plt\n",
    "import re\n",
    "from sklearn.metrics import accuracy_score\n",
    "from sklearn.decomposition import PCA\n",
    "from sklearn.pipeline import make_pipeline\n",
    "from sklearn.preprocessing import StandardScaler"
   ]
  },
  {
   "cell_type": "code",
   "execution_count": 2,
   "metadata": {},
   "outputs": [
    {
     "data": {
      "text/html": [
       "<div>\n",
       "<style scoped>\n",
       "    .dataframe tbody tr th:only-of-type {\n",
       "        vertical-align: middle;\n",
       "    }\n",
       "\n",
       "    .dataframe tbody tr th {\n",
       "        vertical-align: top;\n",
       "    }\n",
       "\n",
       "    .dataframe thead th {\n",
       "        text-align: right;\n",
       "    }\n",
       "</style>\n",
       "<table border=\"1\" class=\"dataframe\">\n",
       "  <thead>\n",
       "    <tr style=\"text-align: right;\">\n",
       "      <th></th>\n",
       "      <th>Unnamed: 0</th>\n",
       "      <th>name</th>\n",
       "      <th>frameTime</th>\n",
       "      <th>pcm_intensity_sma_max</th>\n",
       "      <th>pcm_intensity_sma_min</th>\n",
       "      <th>pcm_intensity_sma_range</th>\n",
       "      <th>pcm_intensity_sma_maxPos</th>\n",
       "      <th>pcm_intensity_sma_minPos</th>\n",
       "      <th>pcm_intensity_sma_amean</th>\n",
       "      <th>pcm_intensity_sma_linregc1</th>\n",
       "      <th>...</th>\n",
       "      <th>F0env_sma_de_stddev</th>\n",
       "      <th>F0env_sma_de_skewness</th>\n",
       "      <th>F0env_sma_de_kurtosis</th>\n",
       "      <th>F0env_sma_de_quartile1</th>\n",
       "      <th>F0env_sma_de_quartile2</th>\n",
       "      <th>F0env_sma_de_quartile3</th>\n",
       "      <th>F0env_sma_de_iqr1-2</th>\n",
       "      <th>F0env_sma_de_iqr2-3</th>\n",
       "      <th>F0env_sma_de_iqr1-3</th>\n",
       "      <th>class</th>\n",
       "    </tr>\n",
       "  </thead>\n",
       "  <tbody>\n",
       "    <tr>\n",
       "      <th>0</th>\n",
       "      <td>0</td>\n",
       "      <td>liveturn_0</td>\n",
       "      <td>0.0125</td>\n",
       "      <td>0.000004</td>\n",
       "      <td>0.000000e+00</td>\n",
       "      <td>0.000004</td>\n",
       "      <td>174.0</td>\n",
       "      <td>0.0</td>\n",
       "      <td>2.218332e-07</td>\n",
       "      <td>2.450513e-10</td>\n",
       "      <td>...</td>\n",
       "      <td>6.370962</td>\n",
       "      <td>4.146805</td>\n",
       "      <td>33.05245</td>\n",
       "      <td>0.000000</td>\n",
       "      <td>0.000000</td>\n",
       "      <td>0.000848</td>\n",
       "      <td>0.000000</td>\n",
       "      <td>0.000848</td>\n",
       "      <td>0.000848</td>\n",
       "      <td>0.0</td>\n",
       "    </tr>\n",
       "    <tr>\n",
       "      <th>1</th>\n",
       "      <td>1</td>\n",
       "      <td>liveturn_0</td>\n",
       "      <td>0.0125</td>\n",
       "      <td>0.000096</td>\n",
       "      <td>3.670129e-11</td>\n",
       "      <td>0.000096</td>\n",
       "      <td>31.0</td>\n",
       "      <td>0.0</td>\n",
       "      <td>9.256620e-06</td>\n",
       "      <td>-1.603280e-08</td>\n",
       "      <td>...</td>\n",
       "      <td>6.743749</td>\n",
       "      <td>3.824213</td>\n",
       "      <td>20.90758</td>\n",
       "      <td>-1.434491</td>\n",
       "      <td>0.000000</td>\n",
       "      <td>1.472285</td>\n",
       "      <td>1.434491</td>\n",
       "      <td>1.472285</td>\n",
       "      <td>2.906777</td>\n",
       "      <td>0.0</td>\n",
       "    </tr>\n",
       "    <tr>\n",
       "      <th>2</th>\n",
       "      <td>2</td>\n",
       "      <td>liveturn_0</td>\n",
       "      <td>0.0125</td>\n",
       "      <td>0.000005</td>\n",
       "      <td>0.000000e+00</td>\n",
       "      <td>0.000005</td>\n",
       "      <td>22.0</td>\n",
       "      <td>0.0</td>\n",
       "      <td>6.583028e-07</td>\n",
       "      <td>-6.342996e-09</td>\n",
       "      <td>...</td>\n",
       "      <td>11.289060</td>\n",
       "      <td>3.723004</td>\n",
       "      <td>20.17166</td>\n",
       "      <td>-2.912331</td>\n",
       "      <td>-1.048251</td>\n",
       "      <td>2.488938</td>\n",
       "      <td>1.864079</td>\n",
       "      <td>3.537189</td>\n",
       "      <td>5.401269</td>\n",
       "      <td>0.0</td>\n",
       "    </tr>\n",
       "    <tr>\n",
       "      <th>3</th>\n",
       "      <td>3</td>\n",
       "      <td>liveturn_0</td>\n",
       "      <td>0.0125</td>\n",
       "      <td>0.000068</td>\n",
       "      <td>0.000000e+00</td>\n",
       "      <td>0.000068</td>\n",
       "      <td>41.0</td>\n",
       "      <td>0.0</td>\n",
       "      <td>2.348227e-06</td>\n",
       "      <td>-2.492247e-08</td>\n",
       "      <td>...</td>\n",
       "      <td>6.847570</td>\n",
       "      <td>3.738633</td>\n",
       "      <td>20.65178</td>\n",
       "      <td>-0.923669</td>\n",
       "      <td>0.000000</td>\n",
       "      <td>0.292783</td>\n",
       "      <td>0.923669</td>\n",
       "      <td>0.292783</td>\n",
       "      <td>1.216453</td>\n",
       "      <td>0.0</td>\n",
       "    </tr>\n",
       "    <tr>\n",
       "      <th>4</th>\n",
       "      <td>4</td>\n",
       "      <td>liveturn_0</td>\n",
       "      <td>0.0125</td>\n",
       "      <td>0.000013</td>\n",
       "      <td>4.531024e-11</td>\n",
       "      <td>0.000013</td>\n",
       "      <td>107.0</td>\n",
       "      <td>0.0</td>\n",
       "      <td>1.350536e-06</td>\n",
       "      <td>-7.928728e-09</td>\n",
       "      <td>...</td>\n",
       "      <td>6.597148</td>\n",
       "      <td>3.341736</td>\n",
       "      <td>18.08254</td>\n",
       "      <td>-0.811553</td>\n",
       "      <td>0.000000</td>\n",
       "      <td>0.800573</td>\n",
       "      <td>0.811553</td>\n",
       "      <td>0.800573</td>\n",
       "      <td>1.612127</td>\n",
       "      <td>0.0</td>\n",
       "    </tr>\n",
       "  </tbody>\n",
       "</table>\n",
       "<p>5 rows × 992 columns</p>\n",
       "</div>"
      ],
      "text/plain": [
       "   Unnamed: 0        name  frameTime  pcm_intensity_sma_max  \\\n",
       "0           0  liveturn_0     0.0125               0.000004   \n",
       "1           1  liveturn_0     0.0125               0.000096   \n",
       "2           2  liveturn_0     0.0125               0.000005   \n",
       "3           3  liveturn_0     0.0125               0.000068   \n",
       "4           4  liveturn_0     0.0125               0.000013   \n",
       "\n",
       "   pcm_intensity_sma_min  pcm_intensity_sma_range  pcm_intensity_sma_maxPos  \\\n",
       "0           0.000000e+00                 0.000004                     174.0   \n",
       "1           3.670129e-11                 0.000096                      31.0   \n",
       "2           0.000000e+00                 0.000005                      22.0   \n",
       "3           0.000000e+00                 0.000068                      41.0   \n",
       "4           4.531024e-11                 0.000013                     107.0   \n",
       "\n",
       "   pcm_intensity_sma_minPos  pcm_intensity_sma_amean  \\\n",
       "0                       0.0             2.218332e-07   \n",
       "1                       0.0             9.256620e-06   \n",
       "2                       0.0             6.583028e-07   \n",
       "3                       0.0             2.348227e-06   \n",
       "4                       0.0             1.350536e-06   \n",
       "\n",
       "   pcm_intensity_sma_linregc1  ...    F0env_sma_de_stddev  \\\n",
       "0                2.450513e-10  ...               6.370962   \n",
       "1               -1.603280e-08  ...               6.743749   \n",
       "2               -6.342996e-09  ...              11.289060   \n",
       "3               -2.492247e-08  ...               6.847570   \n",
       "4               -7.928728e-09  ...               6.597148   \n",
       "\n",
       "   F0env_sma_de_skewness  F0env_sma_de_kurtosis  F0env_sma_de_quartile1  \\\n",
       "0               4.146805               33.05245                0.000000   \n",
       "1               3.824213               20.90758               -1.434491   \n",
       "2               3.723004               20.17166               -2.912331   \n",
       "3               3.738633               20.65178               -0.923669   \n",
       "4               3.341736               18.08254               -0.811553   \n",
       "\n",
       "   F0env_sma_de_quartile2  F0env_sma_de_quartile3  F0env_sma_de_iqr1-2  \\\n",
       "0                0.000000                0.000848             0.000000   \n",
       "1                0.000000                1.472285             1.434491   \n",
       "2               -1.048251                2.488938             1.864079   \n",
       "3                0.000000                0.292783             0.923669   \n",
       "4                0.000000                0.800573             0.811553   \n",
       "\n",
       "   F0env_sma_de_iqr2-3  F0env_sma_de_iqr1-3  class  \n",
       "0             0.000848             0.000848    0.0  \n",
       "1             1.472285             2.906777    0.0  \n",
       "2             3.537189             5.401269    0.0  \n",
       "3             0.292783             1.216453    0.0  \n",
       "4             0.800573             1.612127    0.0  \n",
       "\n",
       "[5 rows x 992 columns]"
      ]
     },
     "execution_count": 2,
     "metadata": {},
     "output_type": "execute_result"
    }
   ],
   "source": [
    "df1 = pd.read_csv('/home/veerlosar/Desktop/df.csv', encoding='utf-8')\n",
    "#Unnamed column csv \n",
    "df1.head()"
   ]
  },
  {
   "cell_type": "code",
   "execution_count": 3,
   "metadata": {},
   "outputs": [
    {
     "name": "stdout",
     "output_type": "stream",
     "text": [
      "1\n",
      "2\n",
      "460\n",
      "482\n",
      "991\n"
     ]
    }
   ],
   "source": [
    "print(list(df1).index('name'))\n",
    "print(list(df1).index('frameTime'))\n",
    "print(list(df1).index('F0_sma_min'))\n",
    "print(list(df1).index('F0env_sma_minPos'))\n",
    "print(list(df1).index('class'))"
   ]
  },
  {
   "cell_type": "code",
   "execution_count": 7,
   "metadata": {},
   "outputs": [],
   "source": [
    "y = df1['class']"
   ]
  },
  {
   "cell_type": "code",
   "execution_count": 4,
   "metadata": {},
   "outputs": [
    {
     "data": {
      "text/html": [
       "<div>\n",
       "<style scoped>\n",
       "    .dataframe tbody tr th:only-of-type {\n",
       "        vertical-align: middle;\n",
       "    }\n",
       "\n",
       "    .dataframe tbody tr th {\n",
       "        vertical-align: top;\n",
       "    }\n",
       "\n",
       "    .dataframe thead th {\n",
       "        text-align: right;\n",
       "    }\n",
       "</style>\n",
       "<table border=\"1\" class=\"dataframe\">\n",
       "  <thead>\n",
       "    <tr style=\"text-align: right;\">\n",
       "      <th></th>\n",
       "      <th>pcm_intensity_sma_max</th>\n",
       "      <th>pcm_intensity_sma_min</th>\n",
       "      <th>pcm_intensity_sma_range</th>\n",
       "      <th>pcm_intensity_sma_maxPos</th>\n",
       "      <th>pcm_intensity_sma_minPos</th>\n",
       "      <th>pcm_intensity_sma_amean</th>\n",
       "      <th>pcm_intensity_sma_linregc1</th>\n",
       "      <th>pcm_intensity_sma_linregc2</th>\n",
       "      <th>pcm_intensity_sma_linregerrA</th>\n",
       "      <th>pcm_intensity_sma_linregerrQ</th>\n",
       "      <th>...</th>\n",
       "      <th>F0env_sma_de_linregerrQ</th>\n",
       "      <th>F0env_sma_de_stddev</th>\n",
       "      <th>F0env_sma_de_skewness</th>\n",
       "      <th>F0env_sma_de_kurtosis</th>\n",
       "      <th>F0env_sma_de_quartile1</th>\n",
       "      <th>F0env_sma_de_quartile2</th>\n",
       "      <th>F0env_sma_de_quartile3</th>\n",
       "      <th>F0env_sma_de_iqr1-2</th>\n",
       "      <th>F0env_sma_de_iqr2-3</th>\n",
       "      <th>F0env_sma_de_iqr1-3</th>\n",
       "    </tr>\n",
       "  </thead>\n",
       "  <tbody>\n",
       "    <tr>\n",
       "      <th>0</th>\n",
       "      <td>0.000004</td>\n",
       "      <td>0.000000e+00</td>\n",
       "      <td>0.000004</td>\n",
       "      <td>174.0</td>\n",
       "      <td>0.0</td>\n",
       "      <td>2.218332e-07</td>\n",
       "      <td>2.450513e-10</td>\n",
       "      <td>1.749059e-07</td>\n",
       "      <td>3.226129e-07</td>\n",
       "      <td>2.786802e-13</td>\n",
       "      <td>...</td>\n",
       "      <td>40.03075</td>\n",
       "      <td>6.370962</td>\n",
       "      <td>4.146805</td>\n",
       "      <td>33.05245</td>\n",
       "      <td>0.000000</td>\n",
       "      <td>0.000000</td>\n",
       "      <td>0.000848</td>\n",
       "      <td>0.000000</td>\n",
       "      <td>0.000848</td>\n",
       "      <td>0.000848</td>\n",
       "    </tr>\n",
       "    <tr>\n",
       "      <th>1</th>\n",
       "      <td>0.000096</td>\n",
       "      <td>3.670129e-11</td>\n",
       "      <td>0.000096</td>\n",
       "      <td>31.0</td>\n",
       "      <td>0.0</td>\n",
       "      <td>9.256620e-06</td>\n",
       "      <td>-1.603280e-08</td>\n",
       "      <td>1.067552e-05</td>\n",
       "      <td>9.873559e-06</td>\n",
       "      <td>1.916103e-10</td>\n",
       "      <td>...</td>\n",
       "      <td>40.60280</td>\n",
       "      <td>6.743749</td>\n",
       "      <td>3.824213</td>\n",
       "      <td>20.90758</td>\n",
       "      <td>-1.434491</td>\n",
       "      <td>0.000000</td>\n",
       "      <td>1.472285</td>\n",
       "      <td>1.434491</td>\n",
       "      <td>1.472285</td>\n",
       "      <td>2.906777</td>\n",
       "    </tr>\n",
       "    <tr>\n",
       "      <th>2</th>\n",
       "      <td>0.000005</td>\n",
       "      <td>0.000000e+00</td>\n",
       "      <td>0.000005</td>\n",
       "      <td>22.0</td>\n",
       "      <td>0.0</td>\n",
       "      <td>6.583028e-07</td>\n",
       "      <td>-6.342996e-09</td>\n",
       "      <td>1.181600e-06</td>\n",
       "      <td>7.439365e-07</td>\n",
       "      <td>1.100044e-12</td>\n",
       "      <td>...</td>\n",
       "      <td>121.68250</td>\n",
       "      <td>11.289060</td>\n",
       "      <td>3.723004</td>\n",
       "      <td>20.17166</td>\n",
       "      <td>-2.912331</td>\n",
       "      <td>-1.048251</td>\n",
       "      <td>2.488938</td>\n",
       "      <td>1.864079</td>\n",
       "      <td>3.537189</td>\n",
       "      <td>5.401269</td>\n",
       "    </tr>\n",
       "    <tr>\n",
       "      <th>3</th>\n",
       "      <td>0.000068</td>\n",
       "      <td>0.000000e+00</td>\n",
       "      <td>0.000068</td>\n",
       "      <td>41.0</td>\n",
       "      <td>0.0</td>\n",
       "      <td>2.348227e-06</td>\n",
       "      <td>-2.492247e-08</td>\n",
       "      <td>4.778168e-06</td>\n",
       "      <td>2.955321e-06</td>\n",
       "      <td>5.902146e-11</td>\n",
       "      <td>...</td>\n",
       "      <td>43.28719</td>\n",
       "      <td>6.847570</td>\n",
       "      <td>3.738633</td>\n",
       "      <td>20.65178</td>\n",
       "      <td>-0.923669</td>\n",
       "      <td>0.000000</td>\n",
       "      <td>0.292783</td>\n",
       "      <td>0.923669</td>\n",
       "      <td>0.292783</td>\n",
       "      <td>1.216453</td>\n",
       "    </tr>\n",
       "    <tr>\n",
       "      <th>4</th>\n",
       "      <td>0.000013</td>\n",
       "      <td>4.531024e-11</td>\n",
       "      <td>0.000013</td>\n",
       "      <td>107.0</td>\n",
       "      <td>0.0</td>\n",
       "      <td>1.350536e-06</td>\n",
       "      <td>-7.928728e-09</td>\n",
       "      <td>2.210803e-06</td>\n",
       "      <td>1.461222e-06</td>\n",
       "      <td>5.422089e-12</td>\n",
       "      <td>...</td>\n",
       "      <td>41.56385</td>\n",
       "      <td>6.597148</td>\n",
       "      <td>3.341736</td>\n",
       "      <td>18.08254</td>\n",
       "      <td>-0.811553</td>\n",
       "      <td>0.000000</td>\n",
       "      <td>0.800573</td>\n",
       "      <td>0.811553</td>\n",
       "      <td>0.800573</td>\n",
       "      <td>1.612127</td>\n",
       "    </tr>\n",
       "  </tbody>\n",
       "</table>\n",
       "<p>5 rows × 986 columns</p>\n",
       "</div>"
      ],
      "text/plain": [
       "   pcm_intensity_sma_max  pcm_intensity_sma_min  pcm_intensity_sma_range  \\\n",
       "0               0.000004           0.000000e+00                 0.000004   \n",
       "1               0.000096           3.670129e-11                 0.000096   \n",
       "2               0.000005           0.000000e+00                 0.000005   \n",
       "3               0.000068           0.000000e+00                 0.000068   \n",
       "4               0.000013           4.531024e-11                 0.000013   \n",
       "\n",
       "   pcm_intensity_sma_maxPos  pcm_intensity_sma_minPos  \\\n",
       "0                     174.0                       0.0   \n",
       "1                      31.0                       0.0   \n",
       "2                      22.0                       0.0   \n",
       "3                      41.0                       0.0   \n",
       "4                     107.0                       0.0   \n",
       "\n",
       "   pcm_intensity_sma_amean  pcm_intensity_sma_linregc1  \\\n",
       "0             2.218332e-07                2.450513e-10   \n",
       "1             9.256620e-06               -1.603280e-08   \n",
       "2             6.583028e-07               -6.342996e-09   \n",
       "3             2.348227e-06               -2.492247e-08   \n",
       "4             1.350536e-06               -7.928728e-09   \n",
       "\n",
       "   pcm_intensity_sma_linregc2  pcm_intensity_sma_linregerrA  \\\n",
       "0                1.749059e-07                  3.226129e-07   \n",
       "1                1.067552e-05                  9.873559e-06   \n",
       "2                1.181600e-06                  7.439365e-07   \n",
       "3                4.778168e-06                  2.955321e-06   \n",
       "4                2.210803e-06                  1.461222e-06   \n",
       "\n",
       "   pcm_intensity_sma_linregerrQ         ...           F0env_sma_de_linregerrQ  \\\n",
       "0                  2.786802e-13         ...                          40.03075   \n",
       "1                  1.916103e-10         ...                          40.60280   \n",
       "2                  1.100044e-12         ...                         121.68250   \n",
       "3                  5.902146e-11         ...                          43.28719   \n",
       "4                  5.422089e-12         ...                          41.56385   \n",
       "\n",
       "   F0env_sma_de_stddev  F0env_sma_de_skewness  F0env_sma_de_kurtosis  \\\n",
       "0             6.370962               4.146805               33.05245   \n",
       "1             6.743749               3.824213               20.90758   \n",
       "2            11.289060               3.723004               20.17166   \n",
       "3             6.847570               3.738633               20.65178   \n",
       "4             6.597148               3.341736               18.08254   \n",
       "\n",
       "   F0env_sma_de_quartile1  F0env_sma_de_quartile2  F0env_sma_de_quartile3  \\\n",
       "0                0.000000                0.000000                0.000848   \n",
       "1               -1.434491                0.000000                1.472285   \n",
       "2               -2.912331               -1.048251                2.488938   \n",
       "3               -0.923669                0.000000                0.292783   \n",
       "4               -0.811553                0.000000                0.800573   \n",
       "\n",
       "   F0env_sma_de_iqr1-2  F0env_sma_de_iqr2-3  F0env_sma_de_iqr1-3  \n",
       "0             0.000000             0.000848             0.000848  \n",
       "1             1.434491             1.472285             2.906777  \n",
       "2             1.864079             3.537189             5.401269  \n",
       "3             0.923669             0.292783             1.216453  \n",
       "4             0.811553             0.800573             1.612127  \n",
       "\n",
       "[5 rows x 986 columns]"
      ]
     },
     "execution_count": 4,
     "metadata": {},
     "output_type": "execute_result"
    }
   ],
   "source": [
    "df = df1.drop(['class', 'Unnamed: 0', 'name', 'frameTime', 'F0_sma_min', 'F0env_sma_minPos'], axis=1)\n",
    "df.head()"
   ]
  },
  {
   "cell_type": "code",
   "execution_count": 5,
   "metadata": {},
   "outputs": [
    {
     "data": {
      "text/html": [
       "<div>\n",
       "<style scoped>\n",
       "    .dataframe tbody tr th:only-of-type {\n",
       "        vertical-align: middle;\n",
       "    }\n",
       "\n",
       "    .dataframe tbody tr th {\n",
       "        vertical-align: top;\n",
       "    }\n",
       "\n",
       "    .dataframe thead th {\n",
       "        text-align: right;\n",
       "    }\n",
       "</style>\n",
       "<table border=\"1\" class=\"dataframe\">\n",
       "  <thead>\n",
       "    <tr style=\"text-align: right;\">\n",
       "      <th></th>\n",
       "      <th>pcm_intensity_sma_max</th>\n",
       "      <th>pcm_intensity_sma_min</th>\n",
       "      <th>pcm_intensity_sma_range</th>\n",
       "      <th>pcm_intensity_sma_maxPos</th>\n",
       "      <th>pcm_intensity_sma_minPos</th>\n",
       "      <th>pcm_intensity_sma_amean</th>\n",
       "      <th>pcm_intensity_sma_linregc1</th>\n",
       "      <th>pcm_intensity_sma_linregc2</th>\n",
       "      <th>pcm_intensity_sma_linregerrA</th>\n",
       "      <th>pcm_intensity_sma_linregerrQ</th>\n",
       "      <th>...</th>\n",
       "      <th>F0env_sma_de_stddev</th>\n",
       "      <th>F0env_sma_de_skewness</th>\n",
       "      <th>F0env_sma_de_kurtosis</th>\n",
       "      <th>F0env_sma_de_quartile1</th>\n",
       "      <th>F0env_sma_de_quartile2</th>\n",
       "      <th>F0env_sma_de_quartile3</th>\n",
       "      <th>F0env_sma_de_iqr1-2</th>\n",
       "      <th>F0env_sma_de_iqr2-3</th>\n",
       "      <th>F0env_sma_de_iqr1-3</th>\n",
       "      <th>class</th>\n",
       "    </tr>\n",
       "  </thead>\n",
       "  <tbody>\n",
       "    <tr>\n",
       "      <th>0</th>\n",
       "      <td>0.000004</td>\n",
       "      <td>0.000000e+00</td>\n",
       "      <td>0.000004</td>\n",
       "      <td>174.0</td>\n",
       "      <td>0.0</td>\n",
       "      <td>2.218332e-07</td>\n",
       "      <td>2.450513e-10</td>\n",
       "      <td>1.749059e-07</td>\n",
       "      <td>3.226129e-07</td>\n",
       "      <td>2.786802e-13</td>\n",
       "      <td>...</td>\n",
       "      <td>6.370962</td>\n",
       "      <td>4.146805</td>\n",
       "      <td>33.05245</td>\n",
       "      <td>0.000000</td>\n",
       "      <td>0.000000</td>\n",
       "      <td>0.000848</td>\n",
       "      <td>0.000000</td>\n",
       "      <td>0.000848</td>\n",
       "      <td>0.000848</td>\n",
       "      <td>0.0</td>\n",
       "    </tr>\n",
       "    <tr>\n",
       "      <th>1</th>\n",
       "      <td>0.000096</td>\n",
       "      <td>3.670129e-11</td>\n",
       "      <td>0.000096</td>\n",
       "      <td>31.0</td>\n",
       "      <td>0.0</td>\n",
       "      <td>9.256620e-06</td>\n",
       "      <td>-1.603280e-08</td>\n",
       "      <td>1.067552e-05</td>\n",
       "      <td>9.873559e-06</td>\n",
       "      <td>1.916103e-10</td>\n",
       "      <td>...</td>\n",
       "      <td>6.743749</td>\n",
       "      <td>3.824213</td>\n",
       "      <td>20.90758</td>\n",
       "      <td>-1.434491</td>\n",
       "      <td>0.000000</td>\n",
       "      <td>1.472285</td>\n",
       "      <td>1.434491</td>\n",
       "      <td>1.472285</td>\n",
       "      <td>2.906777</td>\n",
       "      <td>0.0</td>\n",
       "    </tr>\n",
       "    <tr>\n",
       "      <th>2</th>\n",
       "      <td>0.000005</td>\n",
       "      <td>0.000000e+00</td>\n",
       "      <td>0.000005</td>\n",
       "      <td>22.0</td>\n",
       "      <td>0.0</td>\n",
       "      <td>6.583028e-07</td>\n",
       "      <td>-6.342996e-09</td>\n",
       "      <td>1.181600e-06</td>\n",
       "      <td>7.439365e-07</td>\n",
       "      <td>1.100044e-12</td>\n",
       "      <td>...</td>\n",
       "      <td>11.289060</td>\n",
       "      <td>3.723004</td>\n",
       "      <td>20.17166</td>\n",
       "      <td>-2.912331</td>\n",
       "      <td>-1.048251</td>\n",
       "      <td>2.488938</td>\n",
       "      <td>1.864079</td>\n",
       "      <td>3.537189</td>\n",
       "      <td>5.401269</td>\n",
       "      <td>0.0</td>\n",
       "    </tr>\n",
       "    <tr>\n",
       "      <th>3</th>\n",
       "      <td>0.000068</td>\n",
       "      <td>0.000000e+00</td>\n",
       "      <td>0.000068</td>\n",
       "      <td>41.0</td>\n",
       "      <td>0.0</td>\n",
       "      <td>2.348227e-06</td>\n",
       "      <td>-2.492247e-08</td>\n",
       "      <td>4.778168e-06</td>\n",
       "      <td>2.955321e-06</td>\n",
       "      <td>5.902146e-11</td>\n",
       "      <td>...</td>\n",
       "      <td>6.847570</td>\n",
       "      <td>3.738633</td>\n",
       "      <td>20.65178</td>\n",
       "      <td>-0.923669</td>\n",
       "      <td>0.000000</td>\n",
       "      <td>0.292783</td>\n",
       "      <td>0.923669</td>\n",
       "      <td>0.292783</td>\n",
       "      <td>1.216453</td>\n",
       "      <td>0.0</td>\n",
       "    </tr>\n",
       "    <tr>\n",
       "      <th>4</th>\n",
       "      <td>0.000013</td>\n",
       "      <td>4.531024e-11</td>\n",
       "      <td>0.000013</td>\n",
       "      <td>107.0</td>\n",
       "      <td>0.0</td>\n",
       "      <td>1.350536e-06</td>\n",
       "      <td>-7.928728e-09</td>\n",
       "      <td>2.210803e-06</td>\n",
       "      <td>1.461222e-06</td>\n",
       "      <td>5.422089e-12</td>\n",
       "      <td>...</td>\n",
       "      <td>6.597148</td>\n",
       "      <td>3.341736</td>\n",
       "      <td>18.08254</td>\n",
       "      <td>-0.811553</td>\n",
       "      <td>0.000000</td>\n",
       "      <td>0.800573</td>\n",
       "      <td>0.811553</td>\n",
       "      <td>0.800573</td>\n",
       "      <td>1.612127</td>\n",
       "      <td>0.0</td>\n",
       "    </tr>\n",
       "  </tbody>\n",
       "</table>\n",
       "<p>5 rows × 987 columns</p>\n",
       "</div>"
      ],
      "text/plain": [
       "   pcm_intensity_sma_max  pcm_intensity_sma_min  pcm_intensity_sma_range  \\\n",
       "0               0.000004           0.000000e+00                 0.000004   \n",
       "1               0.000096           3.670129e-11                 0.000096   \n",
       "2               0.000005           0.000000e+00                 0.000005   \n",
       "3               0.000068           0.000000e+00                 0.000068   \n",
       "4               0.000013           4.531024e-11                 0.000013   \n",
       "\n",
       "   pcm_intensity_sma_maxPos  pcm_intensity_sma_minPos  \\\n",
       "0                     174.0                       0.0   \n",
       "1                      31.0                       0.0   \n",
       "2                      22.0                       0.0   \n",
       "3                      41.0                       0.0   \n",
       "4                     107.0                       0.0   \n",
       "\n",
       "   pcm_intensity_sma_amean  pcm_intensity_sma_linregc1  \\\n",
       "0             2.218332e-07                2.450513e-10   \n",
       "1             9.256620e-06               -1.603280e-08   \n",
       "2             6.583028e-07               -6.342996e-09   \n",
       "3             2.348227e-06               -2.492247e-08   \n",
       "4             1.350536e-06               -7.928728e-09   \n",
       "\n",
       "   pcm_intensity_sma_linregc2  pcm_intensity_sma_linregerrA  \\\n",
       "0                1.749059e-07                  3.226129e-07   \n",
       "1                1.067552e-05                  9.873559e-06   \n",
       "2                1.181600e-06                  7.439365e-07   \n",
       "3                4.778168e-06                  2.955321e-06   \n",
       "4                2.210803e-06                  1.461222e-06   \n",
       "\n",
       "   pcm_intensity_sma_linregerrQ  ...    F0env_sma_de_stddev  \\\n",
       "0                  2.786802e-13  ...               6.370962   \n",
       "1                  1.916103e-10  ...               6.743749   \n",
       "2                  1.100044e-12  ...              11.289060   \n",
       "3                  5.902146e-11  ...               6.847570   \n",
       "4                  5.422089e-12  ...               6.597148   \n",
       "\n",
       "   F0env_sma_de_skewness  F0env_sma_de_kurtosis  F0env_sma_de_quartile1  \\\n",
       "0               4.146805               33.05245                0.000000   \n",
       "1               3.824213               20.90758               -1.434491   \n",
       "2               3.723004               20.17166               -2.912331   \n",
       "3               3.738633               20.65178               -0.923669   \n",
       "4               3.341736               18.08254               -0.811553   \n",
       "\n",
       "   F0env_sma_de_quartile2  F0env_sma_de_quartile3  F0env_sma_de_iqr1-2  \\\n",
       "0                0.000000                0.000848             0.000000   \n",
       "1                0.000000                1.472285             1.434491   \n",
       "2               -1.048251                2.488938             1.864079   \n",
       "3                0.000000                0.292783             0.923669   \n",
       "4                0.000000                0.800573             0.811553   \n",
       "\n",
       "   F0env_sma_de_iqr2-3  F0env_sma_de_iqr1-3  class  \n",
       "0             0.000848             0.000848    0.0  \n",
       "1             1.472285             2.906777    0.0  \n",
       "2             3.537189             5.401269    0.0  \n",
       "3             0.292783             1.216453    0.0  \n",
       "4             0.800573             1.612127    0.0  \n",
       "\n",
       "[5 rows x 987 columns]"
      ]
     },
     "execution_count": 5,
     "metadata": {},
     "output_type": "execute_result"
    }
   ],
   "source": [
    "'''\n",
    "from scipy.stats import zscore\n",
    "\n",
    "df = df.astype('float64').apply(zscore)\n",
    "df.head()\n",
    "'''\n",
    "df1.drop(['Unnamed: 0', 'name', 'frameTime', 'F0_sma_min', 'F0env_sma_minPos'], axis=1, inplace=True)\n",
    "df1.head()"
   ]
  },
  {
   "cell_type": "code",
   "execution_count": 6,
   "metadata": {},
   "outputs": [
    {
     "data": {
      "text/html": [
       "<div>\n",
       "<style scoped>\n",
       "    .dataframe tbody tr th:only-of-type {\n",
       "        vertical-align: middle;\n",
       "    }\n",
       "\n",
       "    .dataframe tbody tr th {\n",
       "        vertical-align: top;\n",
       "    }\n",
       "\n",
       "    .dataframe thead th {\n",
       "        text-align: right;\n",
       "    }\n",
       "</style>\n",
       "<table border=\"1\" class=\"dataframe\">\n",
       "  <thead>\n",
       "    <tr style=\"text-align: right;\">\n",
       "      <th></th>\n",
       "      <th>pcm_intensity_sma_max</th>\n",
       "      <th>pcm_intensity_sma_min</th>\n",
       "      <th>pcm_intensity_sma_range</th>\n",
       "      <th>pcm_intensity_sma_maxPos</th>\n",
       "      <th>pcm_intensity_sma_minPos</th>\n",
       "      <th>pcm_intensity_sma_amean</th>\n",
       "      <th>pcm_intensity_sma_linregc1</th>\n",
       "      <th>pcm_intensity_sma_linregc2</th>\n",
       "      <th>pcm_intensity_sma_linregerrA</th>\n",
       "      <th>pcm_intensity_sma_linregerrQ</th>\n",
       "      <th>...</th>\n",
       "      <th>F0env_sma_de_linregerrQ</th>\n",
       "      <th>F0env_sma_de_stddev</th>\n",
       "      <th>F0env_sma_de_skewness</th>\n",
       "      <th>F0env_sma_de_kurtosis</th>\n",
       "      <th>F0env_sma_de_quartile1</th>\n",
       "      <th>F0env_sma_de_quartile2</th>\n",
       "      <th>F0env_sma_de_quartile3</th>\n",
       "      <th>F0env_sma_de_iqr1-2</th>\n",
       "      <th>F0env_sma_de_iqr2-3</th>\n",
       "      <th>F0env_sma_de_iqr1-3</th>\n",
       "    </tr>\n",
       "  </thead>\n",
       "  <tbody>\n",
       "    <tr>\n",
       "      <th>count</th>\n",
       "      <td>2.266000e+03</td>\n",
       "      <td>2.266000e+03</td>\n",
       "      <td>2.266000e+03</td>\n",
       "      <td>2266.000000</td>\n",
       "      <td>2266.000000</td>\n",
       "      <td>2.266000e+03</td>\n",
       "      <td>2.266000e+03</td>\n",
       "      <td>2.266000e+03</td>\n",
       "      <td>2.266000e+03</td>\n",
       "      <td>2.266000e+03</td>\n",
       "      <td>...</td>\n",
       "      <td>2266.000000</td>\n",
       "      <td>2266.000000</td>\n",
       "      <td>2266.000000</td>\n",
       "      <td>2266.000000</td>\n",
       "      <td>2266.000000</td>\n",
       "      <td>2266.000000</td>\n",
       "      <td>2266.000000</td>\n",
       "      <td>2266.000000</td>\n",
       "      <td>2266.000000</td>\n",
       "      <td>2266.000000</td>\n",
       "    </tr>\n",
       "    <tr>\n",
       "      <th>mean</th>\n",
       "      <td>1.298796e-05</td>\n",
       "      <td>1.606254e-11</td>\n",
       "      <td>1.298794e-05</td>\n",
       "      <td>108.894969</td>\n",
       "      <td>20.018094</td>\n",
       "      <td>1.103861e-06</td>\n",
       "      <td>-1.527429e-09</td>\n",
       "      <td>1.258525e-06</td>\n",
       "      <td>1.283552e-06</td>\n",
       "      <td>1.270703e-11</td>\n",
       "      <td>...</td>\n",
       "      <td>64.493616</td>\n",
       "      <td>8.022010</td>\n",
       "      <td>3.396537</td>\n",
       "      <td>21.379906</td>\n",
       "      <td>-0.949621</td>\n",
       "      <td>0.034556</td>\n",
       "      <td>1.548981</td>\n",
       "      <td>0.984178</td>\n",
       "      <td>1.514424</td>\n",
       "      <td>2.498602</td>\n",
       "    </tr>\n",
       "    <tr>\n",
       "      <th>std</th>\n",
       "      <td>1.969487e-05</td>\n",
       "      <td>9.674284e-11</td>\n",
       "      <td>1.969484e-05</td>\n",
       "      <td>61.980624</td>\n",
       "      <td>60.106264</td>\n",
       "      <td>1.529538e-06</td>\n",
       "      <td>9.999467e-09</td>\n",
       "      <td>1.946976e-06</td>\n",
       "      <td>1.794478e-06</td>\n",
       "      <td>3.512191e-11</td>\n",
       "      <td>...</td>\n",
       "      <td>27.900667</td>\n",
       "      <td>1.802730</td>\n",
       "      <td>1.269428</td>\n",
       "      <td>9.848397</td>\n",
       "      <td>1.003634</td>\n",
       "      <td>0.226832</td>\n",
       "      <td>1.429007</td>\n",
       "      <td>0.969754</td>\n",
       "      <td>1.373135</td>\n",
       "      <td>2.113440</td>\n",
       "    </tr>\n",
       "    <tr>\n",
       "      <th>min</th>\n",
       "      <td>3.140372e-09</td>\n",
       "      <td>0.000000e+00</td>\n",
       "      <td>3.140372e-09</td>\n",
       "      <td>18.000000</td>\n",
       "      <td>0.000000</td>\n",
       "      <td>1.629041e-10</td>\n",
       "      <td>-1.363929e-07</td>\n",
       "      <td>-6.102262e-07</td>\n",
       "      <td>2.370709e-10</td>\n",
       "      <td>1.933554e-19</td>\n",
       "      <td>...</td>\n",
       "      <td>7.833272</td>\n",
       "      <td>2.804698</td>\n",
       "      <td>-0.478410</td>\n",
       "      <td>2.613530</td>\n",
       "      <td>-6.806335</td>\n",
       "      <td>-1.049957</td>\n",
       "      <td>0.000000</td>\n",
       "      <td>0.000000</td>\n",
       "      <td>0.000000</td>\n",
       "      <td>0.000000</td>\n",
       "    </tr>\n",
       "    <tr>\n",
       "      <th>25%</th>\n",
       "      <td>1.254313e-06</td>\n",
       "      <td>0.000000e+00</td>\n",
       "      <td>1.254313e-06</td>\n",
       "      <td>54.000000</td>\n",
       "      <td>0.000000</td>\n",
       "      <td>1.069736e-07</td>\n",
       "      <td>-2.240425e-09</td>\n",
       "      <td>9.173569e-08</td>\n",
       "      <td>1.133538e-07</td>\n",
       "      <td>3.733212e-14</td>\n",
       "      <td>...</td>\n",
       "      <td>42.547465</td>\n",
       "      <td>6.711412</td>\n",
       "      <td>2.574128</td>\n",
       "      <td>14.633085</td>\n",
       "      <td>-1.464689</td>\n",
       "      <td>0.000000</td>\n",
       "      <td>0.422210</td>\n",
       "      <td>0.264489</td>\n",
       "      <td>0.449196</td>\n",
       "      <td>0.892692</td>\n",
       "    </tr>\n",
       "    <tr>\n",
       "      <th>50%</th>\n",
       "      <td>4.414417e-06</td>\n",
       "      <td>0.000000e+00</td>\n",
       "      <td>4.414417e-06</td>\n",
       "      <td>107.000000</td>\n",
       "      <td>0.000000</td>\n",
       "      <td>4.486150e-07</td>\n",
       "      <td>-2.549616e-11</td>\n",
       "      <td>4.033889e-07</td>\n",
       "      <td>4.786407e-07</td>\n",
       "      <td>5.479644e-13</td>\n",
       "      <td>...</td>\n",
       "      <td>60.276185</td>\n",
       "      <td>7.945238</td>\n",
       "      <td>3.584701</td>\n",
       "      <td>20.909230</td>\n",
       "      <td>-0.628609</td>\n",
       "      <td>0.000000</td>\n",
       "      <td>1.179805</td>\n",
       "      <td>0.753186</td>\n",
       "      <td>1.216105</td>\n",
       "      <td>2.257393</td>\n",
       "    </tr>\n",
       "    <tr>\n",
       "      <th>75%</th>\n",
       "      <td>1.662450e-05</td>\n",
       "      <td>1.812410e-12</td>\n",
       "      <td>1.662450e-05</td>\n",
       "      <td>153.000000</td>\n",
       "      <td>0.000000</td>\n",
       "      <td>1.485432e-06</td>\n",
       "      <td>3.869026e-10</td>\n",
       "      <td>1.643726e-06</td>\n",
       "      <td>1.698194e-06</td>\n",
       "      <td>7.267741e-12</td>\n",
       "      <td>...</td>\n",
       "      <td>85.179210</td>\n",
       "      <td>9.455861</td>\n",
       "      <td>4.193173</td>\n",
       "      <td>25.799405</td>\n",
       "      <td>-0.142358</td>\n",
       "      <td>0.000000</td>\n",
       "      <td>2.359668</td>\n",
       "      <td>1.459107</td>\n",
       "      <td>2.242447</td>\n",
       "      <td>3.434610</td>\n",
       "    </tr>\n",
       "    <tr>\n",
       "      <th>max</th>\n",
       "      <td>1.897774e-04</td>\n",
       "      <td>2.033977e-09</td>\n",
       "      <td>1.897774e-04</td>\n",
       "      <td>314.000000</td>\n",
       "      <td>423.000000</td>\n",
       "      <td>1.047753e-05</td>\n",
       "      <td>9.168649e-08</td>\n",
       "      <td>2.288928e-05</td>\n",
       "      <td>1.248537e-05</td>\n",
       "      <td>6.438164e-10</td>\n",
       "      <td>...</td>\n",
       "      <td>162.957800</td>\n",
       "      <td>12.889900</td>\n",
       "      <td>8.061347</td>\n",
       "      <td>75.051130</td>\n",
       "      <td>0.000000</td>\n",
       "      <td>1.923746</td>\n",
       "      <td>10.174220</td>\n",
       "      <td>7.060971</td>\n",
       "      <td>10.075370</td>\n",
       "      <td>14.432120</td>\n",
       "    </tr>\n",
       "  </tbody>\n",
       "</table>\n",
       "<p>8 rows × 986 columns</p>\n",
       "</div>"
      ],
      "text/plain": [
       "       pcm_intensity_sma_max  pcm_intensity_sma_min  pcm_intensity_sma_range  \\\n",
       "count           2.266000e+03           2.266000e+03             2.266000e+03   \n",
       "mean            1.298796e-05           1.606254e-11             1.298794e-05   \n",
       "std             1.969487e-05           9.674284e-11             1.969484e-05   \n",
       "min             3.140372e-09           0.000000e+00             3.140372e-09   \n",
       "25%             1.254313e-06           0.000000e+00             1.254313e-06   \n",
       "50%             4.414417e-06           0.000000e+00             4.414417e-06   \n",
       "75%             1.662450e-05           1.812410e-12             1.662450e-05   \n",
       "max             1.897774e-04           2.033977e-09             1.897774e-04   \n",
       "\n",
       "       pcm_intensity_sma_maxPos  pcm_intensity_sma_minPos  \\\n",
       "count               2266.000000               2266.000000   \n",
       "mean                 108.894969                 20.018094   \n",
       "std                   61.980624                 60.106264   \n",
       "min                   18.000000                  0.000000   \n",
       "25%                   54.000000                  0.000000   \n",
       "50%                  107.000000                  0.000000   \n",
       "75%                  153.000000                  0.000000   \n",
       "max                  314.000000                423.000000   \n",
       "\n",
       "       pcm_intensity_sma_amean  pcm_intensity_sma_linregc1  \\\n",
       "count             2.266000e+03                2.266000e+03   \n",
       "mean              1.103861e-06               -1.527429e-09   \n",
       "std               1.529538e-06                9.999467e-09   \n",
       "min               1.629041e-10               -1.363929e-07   \n",
       "25%               1.069736e-07               -2.240425e-09   \n",
       "50%               4.486150e-07               -2.549616e-11   \n",
       "75%               1.485432e-06                3.869026e-10   \n",
       "max               1.047753e-05                9.168649e-08   \n",
       "\n",
       "       pcm_intensity_sma_linregc2  pcm_intensity_sma_linregerrA  \\\n",
       "count                2.266000e+03                  2.266000e+03   \n",
       "mean                 1.258525e-06                  1.283552e-06   \n",
       "std                  1.946976e-06                  1.794478e-06   \n",
       "min                 -6.102262e-07                  2.370709e-10   \n",
       "25%                  9.173569e-08                  1.133538e-07   \n",
       "50%                  4.033889e-07                  4.786407e-07   \n",
       "75%                  1.643726e-06                  1.698194e-06   \n",
       "max                  2.288928e-05                  1.248537e-05   \n",
       "\n",
       "       pcm_intensity_sma_linregerrQ         ...           \\\n",
       "count                  2.266000e+03         ...            \n",
       "mean                   1.270703e-11         ...            \n",
       "std                    3.512191e-11         ...            \n",
       "min                    1.933554e-19         ...            \n",
       "25%                    3.733212e-14         ...            \n",
       "50%                    5.479644e-13         ...            \n",
       "75%                    7.267741e-12         ...            \n",
       "max                    6.438164e-10         ...            \n",
       "\n",
       "       F0env_sma_de_linregerrQ  F0env_sma_de_stddev  F0env_sma_de_skewness  \\\n",
       "count              2266.000000          2266.000000            2266.000000   \n",
       "mean                 64.493616             8.022010               3.396537   \n",
       "std                  27.900667             1.802730               1.269428   \n",
       "min                   7.833272             2.804698              -0.478410   \n",
       "25%                  42.547465             6.711412               2.574128   \n",
       "50%                  60.276185             7.945238               3.584701   \n",
       "75%                  85.179210             9.455861               4.193173   \n",
       "max                 162.957800            12.889900               8.061347   \n",
       "\n",
       "       F0env_sma_de_kurtosis  F0env_sma_de_quartile1  F0env_sma_de_quartile2  \\\n",
       "count            2266.000000             2266.000000             2266.000000   \n",
       "mean               21.379906               -0.949621                0.034556   \n",
       "std                 9.848397                1.003634                0.226832   \n",
       "min                 2.613530               -6.806335               -1.049957   \n",
       "25%                14.633085               -1.464689                0.000000   \n",
       "50%                20.909230               -0.628609                0.000000   \n",
       "75%                25.799405               -0.142358                0.000000   \n",
       "max                75.051130                0.000000                1.923746   \n",
       "\n",
       "       F0env_sma_de_quartile3  F0env_sma_de_iqr1-2  F0env_sma_de_iqr2-3  \\\n",
       "count             2266.000000          2266.000000          2266.000000   \n",
       "mean                 1.548981             0.984178             1.514424   \n",
       "std                  1.429007             0.969754             1.373135   \n",
       "min                  0.000000             0.000000             0.000000   \n",
       "25%                  0.422210             0.264489             0.449196   \n",
       "50%                  1.179805             0.753186             1.216105   \n",
       "75%                  2.359668             1.459107             2.242447   \n",
       "max                 10.174220             7.060971            10.075370   \n",
       "\n",
       "       F0env_sma_de_iqr1-3  \n",
       "count          2266.000000  \n",
       "mean              2.498602  \n",
       "std               2.113440  \n",
       "min               0.000000  \n",
       "25%               0.892692  \n",
       "50%               2.257393  \n",
       "75%               3.434610  \n",
       "max              14.432120  \n",
       "\n",
       "[8 rows x 986 columns]"
      ]
     },
     "execution_count": 6,
     "metadata": {},
     "output_type": "execute_result"
    }
   ],
   "source": [
    "df.describe()"
   ]
  },
  {
   "cell_type": "code",
   "execution_count": 8,
   "metadata": {},
   "outputs": [],
   "source": [
    "from sklearn.model_selection import train_test_split\n",
    "\n",
    "X_train, X_test, y_train, y_test = train_test_split(df, y, test_size=0.18, random_state=42)"
   ]
  },
  {
   "cell_type": "code",
   "execution_count": 9,
   "metadata": {},
   "outputs": [
    {
     "data": {
      "text/plain": [
       "0"
      ]
     },
     "execution_count": 9,
     "metadata": {},
     "output_type": "execute_result"
    }
   ],
   "source": [
    "X_test.isnull().sum().sum()"
   ]
  },
  {
   "cell_type": "code",
   "execution_count": 59,
   "metadata": {},
   "outputs": [
    {
     "name": "stdout",
     "output_type": "stream",
     "text": [
      "Top-10 features according to SelectKBest, f_classif: \n",
      "\n",
      "Index(['F0env_sma_quartile2', 'F0_sma_quartile3', 'F0_sma_stddev',\n",
      "       'F0env_sma_quartile3', 'F0env_sma_de_amean', 'F0env_sma_linregc1',\n",
      "       'F0_sma_linregerrA', 'mfcc_sma[1]_quartile3', 'mfcc_sma[12]_max',\n",
      "       'F0_sma_linregerrQ', 'mfcc_sma[12]_linregerrQ'],\n",
      "      dtype='object')\n"
     ]
    }
   ],
   "source": [
    "#feature selection\n",
    "from sklearn.feature_selection import SelectKBest, chi2, f_classif\n",
    "\n",
    "selector = SelectKBest(score_func=f_classif, k=10).fit(X_train, y_train)\n",
    "ranking = np.argsort(selector.scores_)[::-1]\n",
    "print('Top-10 features according to SelectKBest, f_classif: ')\n",
    "print()\n",
    "print('{}'.format(df.columns[ranking][0:11]))"
   ]
  },
  {
   "cell_type": "code",
   "execution_count": 10,
   "metadata": {
    "scrolled": true
   },
   "outputs": [
    {
     "name": "stderr",
     "output_type": "stream",
     "text": [
      "/home/veerlosar/anaconda3/lib/python3.7/site-packages/sklearn/ensemble/weight_boosting.py:29: DeprecationWarning: numpy.core.umath_tests is an internal NumPy module and should not be imported. It will be removed in a future NumPy release.\n",
      "  from numpy.core.umath_tests import inner1d\n"
     ]
    }
   ],
   "source": [
    "#models\n",
    "from sklearn.ensemble import RandomForestClassifier\n",
    "from sklearn.metrics import accuracy_score\n",
    "\n",
    "\n",
    "clf = RandomForestClassifier(n_estimators=250, max_depth=10,\n",
    "                             random_state=0)\n",
    "clf.fit(X_train, y_train)\n",
    "y_pred_clf_test = clf.predict(X_test)\n",
    "y_pred_clf_train = clf.predict(X_train)"
   ]
  },
  {
   "cell_type": "code",
   "execution_count": 11,
   "metadata": {},
   "outputs": [
    {
     "name": "stdout",
     "output_type": "stream",
     "text": [
      "0.9313725490196079\n"
     ]
    }
   ],
   "source": [
    "print(accuracy_score(y_test, y_pred_clf_test)) #no pca for random forest"
   ]
  },
  {
   "cell_type": "code",
   "execution_count": 12,
   "metadata": {},
   "outputs": [
    {
     "data": {
      "text/plain": [
       "SVC(C=1.0, cache_size=200, class_weight=None, coef0=0.0,\n",
       "  decision_function_shape='ovr', degree=2, gamma='auto', kernel='poly',\n",
       "  max_iter=-1, probability=False, random_state=None, shrinking=True,\n",
       "  tol=0.001, verbose=False)"
      ]
     },
     "execution_count": 12,
     "metadata": {},
     "output_type": "execute_result"
    }
   ],
   "source": [
    "from sklearn import svm\n",
    "\n",
    "\n",
    "svm_ = svm.SVC(kernel='poly', degree=2) \n",
    "svm_"
   ]
  },
  {
   "cell_type": "code",
   "execution_count": 39,
   "metadata": {},
   "outputs": [],
   "source": [
    "#v = dict()\n",
    "t = dict()\n",
    "for i in range(10, 986, 5):\n",
    "    std_pca_svm_ = make_pipeline(StandardScaler(), PCA(n_components=i), svm_)\n",
    "    std_pca_svm_.fit(X_train, y_train)\n",
    "    t[i] = accuracy_score(y_train, std_pca_svm_.predict(X_train))"
   ]
  },
  {
   "cell_type": "code",
   "execution_count": 41,
   "metadata": {},
   "outputs": [
    {
     "data": {
      "image/png": "[encoded data removed]",
      "text/plain": [
       "<Figure size 864x432 with 1 Axes>"
      ]
     },
     "metadata": {
      "needs_background": "light"
     },
     "output_type": "display_data"
    }
   ],
   "source": [
    "plt.figure(figsize=(12,6))\n",
    "plt.plot(v.keys(), v.values())\n",
    "plt.plot(t.keys(), t.values(), color='red')\n",
    "plt.show()"
   ]
  },
  {
   "cell_type": "code",
   "execution_count": 18,
   "metadata": {},
   "outputs": [
    {
     "data": {
      "text/html": [
       "<div>\n",
       "<style scoped>\n",
       "    .dataframe tbody tr th:only-of-type {\n",
       "        vertical-align: middle;\n",
       "    }\n",
       "\n",
       "    .dataframe tbody tr th {\n",
       "        vertical-align: top;\n",
       "    }\n",
       "\n",
       "    .dataframe thead th {\n",
       "        text-align: right;\n",
       "    }\n",
       "</style>\n",
       "<table border=\"1\" class=\"dataframe\">\n",
       "  <thead>\n",
       "    <tr style=\"text-align: right;\">\n",
       "      <th></th>\n",
       "      <th>pcm_intensity_sma_max</th>\n",
       "      <th>pcm_intensity_sma_min</th>\n",
       "      <th>pcm_intensity_sma_range</th>\n",
       "      <th>pcm_intensity_sma_maxPos</th>\n",
       "      <th>pcm_intensity_sma_minPos</th>\n",
       "      <th>pcm_intensity_sma_amean</th>\n",
       "      <th>pcm_intensity_sma_linregc1</th>\n",
       "      <th>pcm_intensity_sma_linregc2</th>\n",
       "      <th>pcm_intensity_sma_linregerrA</th>\n",
       "      <th>pcm_intensity_sma_linregerrQ</th>\n",
       "      <th>...</th>\n",
       "      <th>F0env_sma_de_linregerrQ</th>\n",
       "      <th>F0env_sma_de_stddev</th>\n",
       "      <th>F0env_sma_de_skewness</th>\n",
       "      <th>F0env_sma_de_kurtosis</th>\n",
       "      <th>F0env_sma_de_quartile1</th>\n",
       "      <th>F0env_sma_de_quartile2</th>\n",
       "      <th>F0env_sma_de_quartile3</th>\n",
       "      <th>F0env_sma_de_iqr1-2</th>\n",
       "      <th>F0env_sma_de_iqr2-3</th>\n",
       "      <th>F0env_sma_de_iqr1-3</th>\n",
       "    </tr>\n",
       "  </thead>\n",
       "  <tbody>\n",
       "    <tr>\n",
       "      <th>0</th>\n",
       "      <td>0.000004</td>\n",
       "      <td>0.000000e+00</td>\n",
       "      <td>0.000004</td>\n",
       "      <td>174.0</td>\n",
       "      <td>0.0</td>\n",
       "      <td>2.218332e-07</td>\n",
       "      <td>2.450513e-10</td>\n",
       "      <td>1.749059e-07</td>\n",
       "      <td>3.226129e-07</td>\n",
       "      <td>2.786802e-13</td>\n",
       "      <td>...</td>\n",
       "      <td>40.03075</td>\n",
       "      <td>6.370962</td>\n",
       "      <td>4.146805</td>\n",
       "      <td>33.05245</td>\n",
       "      <td>0.000000</td>\n",
       "      <td>0.000000</td>\n",
       "      <td>0.000848</td>\n",
       "      <td>0.000000</td>\n",
       "      <td>0.000848</td>\n",
       "      <td>0.000848</td>\n",
       "    </tr>\n",
       "    <tr>\n",
       "      <th>1</th>\n",
       "      <td>0.000096</td>\n",
       "      <td>3.670129e-11</td>\n",
       "      <td>0.000096</td>\n",
       "      <td>31.0</td>\n",
       "      <td>0.0</td>\n",
       "      <td>9.256620e-06</td>\n",
       "      <td>-1.603280e-08</td>\n",
       "      <td>1.067552e-05</td>\n",
       "      <td>9.873559e-06</td>\n",
       "      <td>1.916103e-10</td>\n",
       "      <td>...</td>\n",
       "      <td>40.60280</td>\n",
       "      <td>6.743749</td>\n",
       "      <td>3.824213</td>\n",
       "      <td>20.90758</td>\n",
       "      <td>-1.434491</td>\n",
       "      <td>0.000000</td>\n",
       "      <td>1.472285</td>\n",
       "      <td>1.434491</td>\n",
       "      <td>1.472285</td>\n",
       "      <td>2.906777</td>\n",
       "    </tr>\n",
       "    <tr>\n",
       "      <th>2</th>\n",
       "      <td>0.000005</td>\n",
       "      <td>0.000000e+00</td>\n",
       "      <td>0.000005</td>\n",
       "      <td>22.0</td>\n",
       "      <td>0.0</td>\n",
       "      <td>6.583028e-07</td>\n",
       "      <td>-6.342996e-09</td>\n",
       "      <td>1.181600e-06</td>\n",
       "      <td>7.439365e-07</td>\n",
       "      <td>1.100044e-12</td>\n",
       "      <td>...</td>\n",
       "      <td>121.68250</td>\n",
       "      <td>11.289060</td>\n",
       "      <td>3.723004</td>\n",
       "      <td>20.17166</td>\n",
       "      <td>-2.912331</td>\n",
       "      <td>-1.048251</td>\n",
       "      <td>2.488938</td>\n",
       "      <td>1.864079</td>\n",
       "      <td>3.537189</td>\n",
       "      <td>5.401269</td>\n",
       "    </tr>\n",
       "    <tr>\n",
       "      <th>3</th>\n",
       "      <td>0.000068</td>\n",
       "      <td>0.000000e+00</td>\n",
       "      <td>0.000068</td>\n",
       "      <td>41.0</td>\n",
       "      <td>0.0</td>\n",
       "      <td>2.348227e-06</td>\n",
       "      <td>-2.492247e-08</td>\n",
       "      <td>4.778168e-06</td>\n",
       "      <td>2.955321e-06</td>\n",
       "      <td>5.902146e-11</td>\n",
       "      <td>...</td>\n",
       "      <td>43.28719</td>\n",
       "      <td>6.847570</td>\n",
       "      <td>3.738633</td>\n",
       "      <td>20.65178</td>\n",
       "      <td>-0.923669</td>\n",
       "      <td>0.000000</td>\n",
       "      <td>0.292783</td>\n",
       "      <td>0.923669</td>\n",
       "      <td>0.292783</td>\n",
       "      <td>1.216453</td>\n",
       "    </tr>\n",
       "    <tr>\n",
       "      <th>4</th>\n",
       "      <td>0.000013</td>\n",
       "      <td>4.531024e-11</td>\n",
       "      <td>0.000013</td>\n",
       "      <td>107.0</td>\n",
       "      <td>0.0</td>\n",
       "      <td>1.350536e-06</td>\n",
       "      <td>-7.928728e-09</td>\n",
       "      <td>2.210803e-06</td>\n",
       "      <td>1.461222e-06</td>\n",
       "      <td>5.422089e-12</td>\n",
       "      <td>...</td>\n",
       "      <td>41.56385</td>\n",
       "      <td>6.597148</td>\n",
       "      <td>3.341736</td>\n",
       "      <td>18.08254</td>\n",
       "      <td>-0.811553</td>\n",
       "      <td>0.000000</td>\n",
       "      <td>0.800573</td>\n",
       "      <td>0.811553</td>\n",
       "      <td>0.800573</td>\n",
       "      <td>1.612127</td>\n",
       "    </tr>\n",
       "  </tbody>\n",
       "</table>\n",
       "<p>5 rows × 986 columns</p>\n",
       "</div>"
      ],
      "text/plain": [
       "   pcm_intensity_sma_max  pcm_intensity_sma_min  pcm_intensity_sma_range  \\\n",
       "0               0.000004           0.000000e+00                 0.000004   \n",
       "1               0.000096           3.670129e-11                 0.000096   \n",
       "2               0.000005           0.000000e+00                 0.000005   \n",
       "3               0.000068           0.000000e+00                 0.000068   \n",
       "4               0.000013           4.531024e-11                 0.000013   \n",
       "\n",
       "   pcm_intensity_sma_maxPos  pcm_intensity_sma_minPos  \\\n",
       "0                     174.0                       0.0   \n",
       "1                      31.0                       0.0   \n",
       "2                      22.0                       0.0   \n",
       "3                      41.0                       0.0   \n",
       "4                     107.0                       0.0   \n",
       "\n",
       "   pcm_intensity_sma_amean  pcm_intensity_sma_linregc1  \\\n",
       "0             2.218332e-07                2.450513e-10   \n",
       "1             9.256620e-06               -1.603280e-08   \n",
       "2             6.583028e-07               -6.342996e-09   \n",
       "3             2.348227e-06               -2.492247e-08   \n",
       "4             1.350536e-06               -7.928728e-09   \n",
       "\n",
       "   pcm_intensity_sma_linregc2  pcm_intensity_sma_linregerrA  \\\n",
       "0                1.749059e-07                  3.226129e-07   \n",
       "1                1.067552e-05                  9.873559e-06   \n",
       "2                1.181600e-06                  7.439365e-07   \n",
       "3                4.778168e-06                  2.955321e-06   \n",
       "4                2.210803e-06                  1.461222e-06   \n",
       "\n",
       "   pcm_intensity_sma_linregerrQ         ...           F0env_sma_de_linregerrQ  \\\n",
       "0                  2.786802e-13         ...                          40.03075   \n",
       "1                  1.916103e-10         ...                          40.60280   \n",
       "2                  1.100044e-12         ...                         121.68250   \n",
       "3                  5.902146e-11         ...                          43.28719   \n",
       "4                  5.422089e-12         ...                          41.56385   \n",
       "\n",
       "   F0env_sma_de_stddev  F0env_sma_de_skewness  F0env_sma_de_kurtosis  \\\n",
       "0             6.370962               4.146805               33.05245   \n",
       "1             6.743749               3.824213               20.90758   \n",
       "2            11.289060               3.723004               20.17166   \n",
       "3             6.847570               3.738633               20.65178   \n",
       "4             6.597148               3.341736               18.08254   \n",
       "\n",
       "   F0env_sma_de_quartile1  F0env_sma_de_quartile2  F0env_sma_de_quartile3  \\\n",
       "0                0.000000                0.000000                0.000848   \n",
       "1               -1.434491                0.000000                1.472285   \n",
       "2               -2.912331               -1.048251                2.488938   \n",
       "3               -0.923669                0.000000                0.292783   \n",
       "4               -0.811553                0.000000                0.800573   \n",
       "\n",
       "   F0env_sma_de_iqr1-2  F0env_sma_de_iqr2-3  F0env_sma_de_iqr1-3  \n",
       "0             0.000000             0.000848             0.000848  \n",
       "1             1.434491             1.472285             2.906777  \n",
       "2             1.864079             3.537189             5.401269  \n",
       "3             0.923669             0.292783             1.216453  \n",
       "4             0.811553             0.800573             1.612127  \n",
       "\n",
       "[5 rows x 986 columns]"
      ]
     },
     "execution_count": 18,
     "metadata": {},
     "output_type": "execute_result"
    }
   ],
   "source": [
    "df.head()"
   ]
  },
  {
   "cell_type": "code",
   "execution_count": 19,
   "metadata": {},
   "outputs": [],
   "source": [
    "svm_.fit(X_train, y_train)\n",
    "y_pred_svm_test = svm_.predict(X_test)\n",
    "y_pred_svm_train = svm_.predict(X_train)"
   ]
  },
  {
   "cell_type": "code",
   "execution_count": 23,
   "metadata": {},
   "outputs": [],
   "source": [
    "from sklearn.tree import DecisionTreeClassifier\n",
    "from sklearn.ensemble import AdaBoostClassifier\n",
    "\n",
    "dt = DecisionTreeClassifier(criterion='gini', max_depth=10)\n",
    "dt.fit(X_train, y_train)\n",
    "y_pred_dt_test = dt.predict(X_test)\n",
    "y_pred_dt_train = dt.predict(X_train)"
   ]
  },
  {
   "cell_type": "code",
   "execution_count": 25,
   "metadata": {},
   "outputs": [
    {
     "data": {
      "text/plain": [
       "'\\nada_dt = AdaBoostClassifier(DecisionTreeClassifier(max_depth=10),\\n    n_estimators=250,\\n    learning_rate=1.0)\\n\\nada_dt.fit(X_train, y_train)\\ny_pred_ada_dt_test = ada_dt.predict(X_test)\\ny_pred_ada_dt_train = ada_dt.predict(X_train)\\n'"
      ]
     },
     "execution_count": 25,
     "metadata": {},
     "output_type": "execute_result"
    }
   ],
   "source": [
    "'''\n",
    "too slow\n",
    "\n",
    "\n",
    "ada_dt = AdaBoostClassifier(DecisionTreeClassifier(max_depth=10),\n",
    "    n_estimators=250,\n",
    "    learning_rate=1.0)\n",
    "\n",
    "ada_dt.fit(X_train, y_train)\n",
    "y_pred_ada_dt_test = ada_dt.predict(X_test)\n",
    "y_pred_ada_dt_train = ada_dt.predict(X_train)\n",
    "'''"
   ]
  },
  {
   "cell_type": "code",
   "execution_count": 20,
   "metadata": {},
   "outputs": [],
   "source": [
    "from sklearn.svm import LinearSVC\n",
    "\n",
    "lin_svm = LinearSVC(loss='squared_hinge', penalty='l1', dual=False)\n",
    "lin_svm.fit(X_train, y_train)\n",
    "y_pred_lin_svm_test = lin_svm.predict(X_test)\n",
    "y_pred_lin_svm_train = lin_svm.predict(X_train)"
   ]
  },
  {
   "cell_type": "code",
   "execution_count": 26,
   "metadata": {},
   "outputs": [
    {
     "name": "stdout",
     "output_type": "stream",
     "text": [
      "Random Forests:  0.9313725490196079 1.0\n",
      "Kernel SVM:  0.8529411764705882 1.0 0.8529411764705882\n",
      "Decision Tree:  0.8382352941176471 0.9768568353067815\n",
      "Linear SVM:  0.8774509803921569 1.0\n"
     ]
    }
   ],
   "source": [
    "#accuracy without scaling and pca\n",
    "\n",
    "print('Random Forests: ', accuracy_score(y_test, y_pred_clf_test), accuracy_score(y_train, y_pred_clf_train))\n",
    "print('Kernel SVM: ', accuracy_score(y_test, y_pred_svm_test), accuracy_score(y_train, y_pred_svm_train), \n",
    "      svm_.score(X_test, y_test))\n",
    "print('Decision Tree: ', accuracy_score(y_test, y_pred_dt_test), accuracy_score(y_train, y_pred_dt_train))\n",
    "#print('Decision Tree with AdaBoost: ', accuracy_score(y_test, y_pred_ada_dt_test), accuracy_score(y_train, y_pred_ada_dt_train))\n",
    "print('Linear SVM: ', accuracy_score(y_test, y_pred_lin_svm_test), accuracy_score(y_train, y_pred_lin_svm_train))"
   ]
  },
  {
   "cell_type": "code",
   "execution_count": 27,
   "metadata": {},
   "outputs": [
    {
     "name": "stdout",
     "output_type": "stream",
     "text": [
      "472 0.023543248445896607\n"
     ]
    }
   ],
   "source": [
    "importances = clf.feature_importances_\n",
    "\n",
    "print(list(importances).index(max(importances)), max(importances))"
   ]
  },
  {
   "cell_type": "code",
   "execution_count": 28,
   "metadata": {
    "scrolled": true
   },
   "outputs": [
    {
     "name": "stdout",
     "output_type": "stream",
     "text": [
      "Index(['F0_sma_iqr2-3', 'F0env_sma_quartile3', 'F0_sma_quartile3',\n",
      "       'F0env_sma_iqr1-2', 'F0env_sma_quartile2', 'voiceProb_sma_iqr2-3',\n",
      "       'F0env_sma_linregc1', 'F0_sma_iqr1-3', 'F0_sma_quartile2',\n",
      "       'F0env_sma_de_amean', 'F0env_sma_quartile1'],\n",
      "      dtype='object')\n"
     ]
    }
   ],
   "source": [
    "indices = np.argsort(importances)[::-1]\n",
    "top_10_features = df.columns[indices][0:11]\n",
    "print(top_10_features)"
   ]
  },
  {
   "cell_type": "code",
   "execution_count": 71,
   "metadata": {},
   "outputs": [
    {
     "data": {
      "image/png": "[encoded data removed]",
      "text/plain": [
       "<Figure size 1800x720 with 1 Axes>"
      ]
     },
     "metadata": {
      "needs_background": "light"
     },
     "output_type": "display_data"
    }
   ],
   "source": [
    "plt.figure(figsize=(25, 10))\n",
    "plt.bar(indices, importances[indices])\n",
    "plt.show()"
   ]
  },
  {
   "cell_type": "code",
   "execution_count": 85,
   "metadata": {},
   "outputs": [],
   "source": [
    "def predict_new(filename, model):\n",
    "    arff_file = arff.load(open('{}.arff'.format(filename[:-4]), 'r'))\n",
    "    df = pd.DataFrame(np.array(arff_file['data']))\n",
    "    df.drop([0, 1, 459, 481, 990], axis=1, inplace=True)\n",
    "    df = df.astype('float64')\n",
    "    print(model.predict(df))\n",
    "    return df\n",
    "      "
   ]
  },
  {
   "cell_type": "code",
   "execution_count": 96,
   "metadata": {},
   "outputs": [
    {
     "name": "stdout",
     "output_type": "stream",
     "text": [
      "[3.]\n"
     ]
    }
   ],
   "source": [
    "d = predict_new('/home/veerlosar/Downloads/ERHS/neutral_maria2.wav', svm_pipeline)"
   ]
  },
  {
   "cell_type": "code",
   "execution_count": 103,
   "metadata": {},
   "outputs": [
    {
     "name": "stdout",
     "output_type": "stream",
     "text": [
      "[3.]\n",
      "[0.]\n",
      "[1.]\n",
      "[0.]\n"
     ]
    },
    {
     "data": {
      "text/html": [
       "<div>\n",
       "<style scoped>\n",
       "    .dataframe tbody tr th:only-of-type {\n",
       "        vertical-align: middle;\n",
       "    }\n",
       "\n",
       "    .dataframe tbody tr th {\n",
       "        vertical-align: top;\n",
       "    }\n",
       "\n",
       "    .dataframe thead th {\n",
       "        text-align: right;\n",
       "    }\n",
       "</style>\n",
       "<table border=\"1\" class=\"dataframe\">\n",
       "  <thead>\n",
       "    <tr style=\"text-align: right;\">\n",
       "      <th></th>\n",
       "      <th>2</th>\n",
       "      <th>3</th>\n",
       "      <th>4</th>\n",
       "      <th>5</th>\n",
       "      <th>6</th>\n",
       "      <th>7</th>\n",
       "      <th>8</th>\n",
       "      <th>9</th>\n",
       "      <th>10</th>\n",
       "      <th>11</th>\n",
       "      <th>...</th>\n",
       "      <th>980</th>\n",
       "      <th>981</th>\n",
       "      <th>982</th>\n",
       "      <th>983</th>\n",
       "      <th>984</th>\n",
       "      <th>985</th>\n",
       "      <th>986</th>\n",
       "      <th>987</th>\n",
       "      <th>988</th>\n",
       "      <th>989</th>\n",
       "    </tr>\n",
       "  </thead>\n",
       "  <tbody>\n",
       "    <tr>\n",
       "      <th>0</th>\n",
       "      <td>0.000001</td>\n",
       "      <td>1.243611e-11</td>\n",
       "      <td>0.000001</td>\n",
       "      <td>186.0</td>\n",
       "      <td>6.0</td>\n",
       "      <td>3.641133e-08</td>\n",
       "      <td>-7.506724e-11</td>\n",
       "      <td>5.641675e-08</td>\n",
       "      <td>4.507358e-08</td>\n",
       "      <td>9.879246e-15</td>\n",
       "      <td>...</td>\n",
       "      <td>49.93483</td>\n",
       "      <td>7.098348</td>\n",
       "      <td>1.945231</td>\n",
       "      <td>14.46606</td>\n",
       "      <td>-0.798927</td>\n",
       "      <td>0.0</td>\n",
       "      <td>2.023879</td>\n",
       "      <td>0.798927</td>\n",
       "      <td>2.023879</td>\n",
       "      <td>2.822806</td>\n",
       "    </tr>\n",
       "  </tbody>\n",
       "</table>\n",
       "<p>1 rows × 986 columns</p>\n",
       "</div>"
      ],
      "text/plain": [
       "        2             3         4      5    6             7             8    \\\n",
       "0  0.000001  1.243611e-11  0.000001  186.0  6.0  3.641133e-08 -7.506724e-11   \n",
       "\n",
       "            9             10            11     ...          980       981  \\\n",
       "0  5.641675e-08  4.507358e-08  9.879246e-15    ...     49.93483  7.098348   \n",
       "\n",
       "        982       983       984  985       986       987       988       989  \n",
       "0  1.945231  14.46606 -0.798927  0.0  2.023879  0.798927  2.023879  2.822806  \n",
       "\n",
       "[1 rows x 986 columns]"
      ]
     },
     "execution_count": 103,
     "metadata": {},
     "output_type": "execute_result"
    }
   ],
   "source": [
    "predict_new('/home/veerlosar/Downloads/ERHS/neutral_maria2.wav', svm_pipeline)\n",
    "predict_new('/home/veerlosar/Downloads/ERHS/neutral_lalit.wav', svm_pipeline)\n",
    "predict_new('/home/veerlosar/Downloads/ERHS/happy_maria.wav', svm_pipeline)\n",
    "predict_new('/home/veerlosar/Downloads/ERHS/happy_lalit.wav', svm_pipeline)"
   ]
  },
  {
   "cell_type": "code",
   "execution_count": 58,
   "metadata": {},
   "outputs": [],
   "source": [
    "from sklearn.metrics import confusion_matrix\n",
    "\n",
    "preds = [y_pred_lin_svm_test, y_pred_dt_test, svm_pipeline.predict(X_test), y_pred_clf_test]"
   ]
  },
  {
   "cell_type": "code",
   "execution_count": 59,
   "metadata": {},
   "outputs": [],
   "source": [
    "import itertools\n",
    "def plot_confusion_matrix(cm, classes,\n",
    "                          normalize=False,\n",
    "                          title='Confusion matrix',\n",
    "                          cmap=plt.cm.Blues):\n",
    "    if normalize:\n",
    "        cm = cm.astype('float') / cm.sum(axis=1)[:, np.newaxis]\n",
    "        print(\"Normalized confusion matrix\")\n",
    "    else:\n",
    "        print('Confusion matrix, without normalization')\n",
    "\n",
    "    print(cm)\n",
    "\n",
    "    plt.imshow(cm, interpolation='nearest', cmap=cmap)\n",
    "    plt.title(title)\n",
    "    plt.colorbar()\n",
    "    tick_marks = np.arange(len(classes))\n",
    "    plt.xticks(tick_marks, classes, rotation=45)\n",
    "    plt.yticks(tick_marks, classes)\n",
    "\n",
    "    fmt = '.2f' if normalize else 'd'\n",
    "    thresh = cm.max() / 2.\n",
    "    for i, j in itertools.product(range(cm.shape[0]), range(cm.shape[1])):\n",
    "        plt.text(j, i, format(cm[i, j], fmt),\n",
    "                 horizontalalignment=\"center\",\n",
    "                 color=\"white\" if cm[i, j] > thresh else \"black\")\n",
    "\n",
    "    plt.ylabel('True label')\n",
    "    plt.xlabel('Predicted label')\n",
    "    plt.tight_layout()"
   ]
  },
  {
   "cell_type": "code",
   "execution_count": 60,
   "metadata": {},
   "outputs": [
    {
     "name": "stdout",
     "output_type": "stream",
     "text": [
      "Confusion matrix, without normalization\n",
      "[[100   7   7   1]\n",
      " [  6  94   6   2]\n",
      " [  7   4  91   3]\n",
      " [  3   2   2  73]]\n"
     ]
    },
    {
     "data": {
      "image/png": "[encoded data removed]",
      "text/plain": [
       "<Figure size 432x288 with 2 Axes>"
      ]
     },
     "metadata": {
      "needs_background": "light"
     },
     "output_type": "display_data"
    },
    {
     "name": "stdout",
     "output_type": "stream",
     "text": [
      "Confusion matrix, without normalization\n",
      "[[91 11  7  6]\n",
      " [ 1 93 12  2]\n",
      " [10  5 85  5]\n",
      " [ 2  0  5 73]]\n"
     ]
    },
    {
     "data": {
      "image/png": "[encoded data removed]",
      "text/plain": [
       "<Figure size 432x288 with 2 Axes>"
      ]
     },
     "metadata": {
      "needs_background": "light"
     },
     "output_type": "display_data"
    },
    {
     "name": "stdout",
     "output_type": "stream",
     "text": [
      "Confusion matrix, without normalization\n",
      "[[110   1   2   2]\n",
      " [  2 105   1   0]\n",
      " [  4   1  97   3]\n",
      " [  0   1   0  79]]\n"
     ]
    },
    {
     "data": {
      "image/png": "[encoded data removed]",
      "text/plain": [
       "<Figure size 432x288 with 2 Axes>"
      ]
     },
     "metadata": {
      "needs_background": "light"
     },
     "output_type": "display_data"
    },
    {
     "name": "stdout",
     "output_type": "stream",
     "text": [
      "Confusion matrix, without normalization\n",
      "[[106   1   6   2]\n",
      " [  1 100   5   2]\n",
      " [  4   3  94   4]\n",
      " [  0   0   0  80]]\n"
     ]
    },
    {
     "data": {
      "image/png": "[encoded data removed]",
      "text/plain": [
       "<Figure size 432x288 with 2 Axes>"
      ]
     },
     "metadata": {
      "needs_background": "light"
     },
     "output_type": "display_data"
    }
   ],
   "source": [
    "class_names = ['angry', 'fear', 'happy', 'neutral']\n",
    "for i in preds:\n",
    "    plt.figure()\n",
    "    plot_confusion_matrix(confusion_matrix(y_test, i), classes=class_names)\n",
    "\n",
    "    plt.show()\n",
    "    "
   ]
  },
  {
   "cell_type": "code",
   "execution_count": 66,
   "metadata": {},
   "outputs": [
    {
     "data": {
      "text/plain": [
       "172.9988"
      ]
     },
     "execution_count": 66,
     "metadata": {},
     "output_type": "execute_result"
    }
   ],
   "source": [
    "d.values[0][472]"
   ]
  },
  {
   "cell_type": "code",
   "execution_count": 68,
   "metadata": {},
   "outputs": [],
   "source": [
    "#x = df1[df1['class'] == 2.].loc[1178:1180].drop(['class'], axis=1)"
   ]
  },
  {
   "cell_type": "code",
   "execution_count": 95,
   "metadata": {},
   "outputs": [
    {
     "data": {
      "image/png": "[encoded data removed]",
      "text/plain": [
       "<Figure size 864x432 with 1 Axes>"
      ]
     },
     "metadata": {
      "needs_background": "light"
     },
     "output_type": "display_data"
    }
   ],
   "source": [
    "# :D \n",
    "\n",
    "colors = ['red', 'green', 'yellow', 'blue']\n",
    "plt.figure(figsize=(12,6))\n",
    "\n",
    "for i, color in enumerate(colors):\n",
    "    plt.scatter(df1['F0_sma_iqr2-3'].loc[df1['class']==i], df1['F0env_sma_quartile3'].loc[df1['class']==i], color=color)\n",
    "\n",
    "\n",
    "\n",
    "plt.show()\n"
   ]
  },
  {
   "cell_type": "code",
   "execution_count": 155,
   "metadata": {},
   "outputs": [
    {
     "data": {
      "text/plain": [
       "Index(['F0_sma_iqr2-3', 'F0env_sma_quartile3', 'F0_sma_quartile3',\n",
       "       'F0env_sma_iqr1-2', 'F0env_sma_quartile2', 'voiceProb_sma_iqr2-3',\n",
       "       'F0env_sma_linregc1', 'F0_sma_iqr1-3', 'F0_sma_quartile2',\n",
       "       'F0env_sma_de_amean', 'F0env_sma_quartile1'],\n",
       "      dtype='object')"
      ]
     },
     "execution_count": 155,
     "metadata": {},
     "output_type": "execute_result"
    }
   ],
   "source": [
    "top_10_features"
   ]
  },
  {
   "cell_type": "code",
   "execution_count": null,
   "metadata": {},
   "outputs": [],
   "source": []
  },
  {
   "cell_type": "code",
   "execution_count": 108,
   "metadata": {},
   "outputs": [],
   "source": [
    "df2 = df1.drop(df1.columns[:449], axis=1).drop(df1.columns[501:949], axis=1)\n",
    "df3 = df1.drop(df1.columns[:449], axis=1).drop(df1.columns[501:], axis=1)"
   ]
  },
  {
   "cell_type": "code",
   "execution_count": 77,
   "metadata": {},
   "outputs": [],
   "source": [
    "df2.head()\n",
    "X2_train, X2_test, y2_train, y2_test = train_test_split(df, y, test_size=0.18, random_state=42)"
   ]
  },
  {
   "cell_type": "code",
   "execution_count": 111,
   "metadata": {},
   "outputs": [],
   "source": [
    "\n",
    "X3_train, X3_test, y3_train, y3_test = train_test_split(df, y, test_size=0.18, random_state=42)"
   ]
  },
  {
   "cell_type": "code",
   "execution_count": 116,
   "metadata": {},
   "outputs": [
    {
     "data": {
      "text/plain": [
       "Index(['voiceProb_sma_kurtosis', 'voiceProb_sma_quartile1',\n",
       "       'voiceProb_sma_quartile2', 'voiceProb_sma_quartile3',\n",
       "       'voiceProb_sma_iqr1-2', 'voiceProb_sma_iqr2-3', 'voiceProb_sma_iqr1-3',\n",
       "       'F0_sma_max', 'F0_sma_range', 'F0_sma_maxPos', 'F0_sma_minPos',\n",
       "       'F0_sma_amean', 'F0_sma_linregc1', 'F0_sma_linregc2',\n",
       "       'F0_sma_linregerrA', 'F0_sma_linregerrQ', 'F0_sma_stddev',\n",
       "       'F0_sma_skewness', 'F0_sma_kurtosis', 'F0_sma_quartile1',\n",
       "       'F0_sma_quartile2', 'F0_sma_quartile3', 'F0_sma_iqr1-2',\n",
       "       'F0_sma_iqr2-3', 'F0_sma_iqr1-3', 'F0env_sma_max', 'F0env_sma_min',\n",
       "       'F0env_sma_range', 'F0env_sma_maxPos', 'F0env_sma_amean',\n",
       "       'F0env_sma_linregc1', 'F0env_sma_linregc2', 'F0env_sma_linregerrA',\n",
       "       'F0env_sma_linregerrQ', 'F0env_sma_stddev', 'F0env_sma_skewness',\n",
       "       'F0env_sma_kurtosis', 'F0env_sma_quartile1', 'F0env_sma_quartile2',\n",
       "       'F0env_sma_quartile3', 'F0env_sma_iqr1-2', 'F0env_sma_iqr2-3',\n",
       "       'F0env_sma_iqr1-3', 'pcm_intensity_sma_de_max',\n",
       "       'pcm_intensity_sma_de_min', 'pcm_intensity_sma_de_range',\n",
       "       'pcm_intensity_sma_de_maxPos', 'pcm_intensity_sma_de_minPos',\n",
       "       'pcm_intensity_sma_de_amean', 'pcm_intensity_sma_de_linregc1',\n",
       "       'pcm_intensity_sma_de_linregc2', 'pcm_intensity_sma_de_linregerrA'],\n",
       "      dtype='object')"
      ]
     },
     "execution_count": 116,
     "metadata": {},
     "output_type": "execute_result"
    }
   ],
   "source": [
    "df3.columns"
   ]
  },
  {
   "cell_type": "code",
   "execution_count": 104,
   "metadata": {},
   "outputs": [
    {
     "data": {
      "text/plain": [
       "array([0., 1., 2., 1., 1., 0., 1., 2., 1., 3., 1., 3., 2., 0., 0., 3., 1.,\n",
       "       1., 0., 2., 0., 1., 3., 1., 0., 2., 2., 1., 3., 3., 0., 0., 1., 0.,\n",
       "       1., 2., 3., 0., 3., 3., 3., 2., 2., 0., 0., 1., 0., 0., 0., 2., 2.,\n",
       "       1., 2., 1., 2., 2., 2., 2., 0., 0., 2., 0., 0., 1., 2., 1., 0., 1.,\n",
       "       1., 2., 1., 1., 2., 1., 2., 2., 3., 3., 3., 1., 3., 2., 3., 1., 3.,\n",
       "       1., 0., 3., 2., 0., 0., 3., 3., 1., 0., 2., 1., 2., 2., 0., 3., 1.,\n",
       "       1., 3., 1., 0., 0., 0., 1., 3., 1., 3., 1., 0., 0., 3., 2., 3., 0.,\n",
       "       3., 2., 0., 3., 1., 1., 2., 0., 3., 3., 3., 2., 1., 0., 1., 3., 2.,\n",
       "       3., 2., 1., 2., 2., 1., 3., 2., 0., 1., 1., 0., 2., 1., 0., 2., 3.,\n",
       "       1., 0., 1., 2., 0., 0., 3., 1., 0., 3., 0., 0., 0., 1., 2., 1., 3.,\n",
       "       0., 1., 2., 1., 0., 0., 1., 2., 3., 2., 1., 0., 3., 1., 3., 0., 1.,\n",
       "       1., 1., 3., 0., 1., 1., 1., 2., 2., 0., 2., 1., 3., 1., 3., 0., 3.,\n",
       "       2., 3., 0., 1., 0., 2., 2., 3., 0., 2., 3., 1., 0., 0., 1., 1., 0.,\n",
       "       2., 3., 2., 2., 1., 0., 3., 2., 3., 2., 3., 1., 2., 2., 3., 3., 0.,\n",
       "       1., 2., 0., 1., 1., 0., 2., 0., 0., 3., 2., 1., 1., 0., 2., 2., 1.,\n",
       "       0., 0., 2., 2., 2., 0., 0., 1., 0., 0., 2., 3., 2., 1., 3., 0., 0.,\n",
       "       2., 1., 2., 3., 3., 3., 1., 0., 1., 0., 2., 2., 3., 1., 2., 3., 3.,\n",
       "       2., 2., 3., 1., 1., 0., 3., 1., 2., 2., 0., 0., 2., 0., 3., 2., 3.,\n",
       "       3., 2., 0., 1., 3., 2., 1., 1., 2., 3., 1., 1., 1., 0., 0., 0., 1.,\n",
       "       3., 3., 0., 3., 1., 1., 0., 3., 0., 0., 0., 3., 2., 0., 1., 0., 0.,\n",
       "       2., 2., 0., 0., 1., 0., 0., 2., 0., 0., 0., 2., 3., 3., 3., 1., 0.,\n",
       "       3., 0., 1., 2., 0., 0., 0., 1., 2., 2., 2., 2., 1., 1., 0., 1., 1.,\n",
       "       3., 0., 3., 2., 0., 1., 0., 2., 1., 1., 2., 3., 2., 2., 1., 0., 0.,\n",
       "       1., 0., 1., 0., 2., 3., 3., 3., 0., 0., 3., 3., 2., 0., 0., 2., 3.])"
      ]
     },
     "execution_count": 104,
     "metadata": {},
     "output_type": "execute_result"
    }
   ],
   "source": [
    "svm2_pipeline = make_pipeline(StandardScaler(), PCA(n_components=70), svm_)\n",
    "svm2_pipeline.fit(X2_train, y2_train)\n",
    "svm2_pipeline.predict(X2_test)"
   ]
  },
  {
   "cell_type": "code",
   "execution_count": 112,
   "metadata": {},
   "outputs": [
    {
     "data": {
      "text/plain": [
       "array([0., 1., 2., 1., 1., 0., 1., 2., 1., 3., 1., 3., 2., 0., 0., 3., 1.,\n",
       "       1., 0., 2., 0., 0., 3., 1., 0., 2., 2., 1., 3., 3., 0., 0., 1., 0.,\n",
       "       1., 2., 3., 0., 3., 3., 3., 2., 2., 0., 0., 1., 0., 0., 0., 2., 2.,\n",
       "       1., 2., 1., 2., 2., 2., 2., 0., 0., 2., 0., 0., 1., 2., 1., 0., 1.,\n",
       "       1., 2., 1., 1., 2., 1., 2., 0., 2., 3., 3., 1., 3., 2., 3., 1., 3.,\n",
       "       1., 0., 3., 2., 0., 0., 3., 3., 1., 1., 2., 1., 2., 2., 0., 3., 1.,\n",
       "       1., 3., 1., 0., 0., 0., 1., 3., 1., 3., 1., 0., 0., 3., 2., 3., 0.,\n",
       "       3., 2., 0., 3., 1., 1., 2., 0., 3., 3., 3., 2., 1., 0., 0., 3., 2.,\n",
       "       3., 2., 1., 2., 2., 1., 3., 2., 0., 1., 1., 0., 2., 1., 0., 2., 3.,\n",
       "       1., 0., 1., 2., 0., 0., 3., 1., 0., 3., 0., 0., 0., 1., 2., 1., 3.,\n",
       "       0., 1., 2., 1., 0., 0., 1., 2., 3., 2., 1., 0., 3., 1., 3., 0., 1.,\n",
       "       1., 1., 3., 0., 1., 1., 1., 2., 2., 0., 2., 1., 3., 1., 3., 0., 3.,\n",
       "       2., 3., 0., 1., 0., 2., 2., 3., 0., 2., 3., 1., 0., 0., 1., 1., 0.,\n",
       "       2., 3., 2., 2., 1., 0., 3., 2., 3., 2., 0., 1., 2., 2., 3., 3., 0.,\n",
       "       1., 2., 0., 1., 1., 0., 2., 0., 0., 3., 2., 1., 1., 0., 2., 2., 1.,\n",
       "       0., 0., 2., 2., 0., 0., 0., 1., 0., 0., 2., 3., 2., 1., 3., 0., 0.,\n",
       "       2., 1., 2., 3., 3., 3., 1., 0., 1., 1., 2., 2., 3., 1., 2., 3., 3.,\n",
       "       2., 2., 3., 1., 1., 0., 3., 1., 2., 2., 0., 0., 2., 0., 3., 2., 3.,\n",
       "       3., 2., 0., 1., 3., 2., 1., 1., 2., 3., 1., 1., 1., 0., 0., 0., 1.,\n",
       "       3., 3., 0., 3., 1., 1., 0., 3., 0., 0., 0., 3., 2., 0., 1., 0., 0.,\n",
       "       2., 2., 0., 0., 1., 0., 0., 2., 0., 0., 0., 2., 3., 3., 3., 1., 0.,\n",
       "       3., 0., 1., 2., 0., 2., 0., 1., 2., 2., 2., 2., 1., 1., 0., 1., 1.,\n",
       "       3., 0., 3., 2., 0., 1., 0., 2., 1., 1., 2., 3., 2., 2., 1., 0., 0.,\n",
       "       1., 0., 1., 0., 2., 3., 3., 3., 0., 0., 3., 3., 2., 0., 0., 2., 3.])"
      ]
     },
     "execution_count": 112,
     "metadata": {},
     "output_type": "execute_result"
    }
   ],
   "source": [
    "svm3_pipeline = make_pipeline(StandardScaler(), PCA(n_components=50), svm_)\n",
    "svm3_pipeline.fit(X3_train, y3_train)\n",
    "svm3_pipeline.predict(X3_test)"
   ]
  },
  {
   "cell_type": "code",
   "execution_count": 79,
   "metadata": {},
   "outputs": [
    {
     "name": "stdout",
     "output_type": "stream",
     "text": [
      "0.9313725490196079\n"
     ]
    }
   ],
   "source": [
    "print(accuracy_score(y2_test, svm2_pipeline.predict(X2_test)))"
   ]
  },
  {
   "cell_type": "code",
   "execution_count": 113,
   "metadata": {},
   "outputs": [
    {
     "name": "stdout",
     "output_type": "stream",
     "text": [
      "0.9362745098039216\n"
     ]
    }
   ],
   "source": [
    "print(accuracy_score(y3_test, svm3_pipeline.predict(X3_test)))"
   ]
  },
  {
   "cell_type": "code",
   "execution_count": 107,
   "metadata": {},
   "outputs": [
    {
     "name": "stdout",
     "output_type": "stream",
     "text": [
      "[3.]\n",
      "[1.]\n",
      "[1.]\n",
      "[2.]\n"
     ]
    },
    {
     "data": {
      "text/html": [
       "<div>\n",
       "<style scoped>\n",
       "    .dataframe tbody tr th:only-of-type {\n",
       "        vertical-align: middle;\n",
       "    }\n",
       "\n",
       "    .dataframe tbody tr th {\n",
       "        vertical-align: top;\n",
       "    }\n",
       "\n",
       "    .dataframe thead th {\n",
       "        text-align: right;\n",
       "    }\n",
       "</style>\n",
       "<table border=\"1\" class=\"dataframe\">\n",
       "  <thead>\n",
       "    <tr style=\"text-align: right;\">\n",
       "      <th></th>\n",
       "      <th>2</th>\n",
       "      <th>3</th>\n",
       "      <th>4</th>\n",
       "      <th>5</th>\n",
       "      <th>6</th>\n",
       "      <th>7</th>\n",
       "      <th>8</th>\n",
       "      <th>9</th>\n",
       "      <th>10</th>\n",
       "      <th>11</th>\n",
       "      <th>...</th>\n",
       "      <th>980</th>\n",
       "      <th>981</th>\n",
       "      <th>982</th>\n",
       "      <th>983</th>\n",
       "      <th>984</th>\n",
       "      <th>985</th>\n",
       "      <th>986</th>\n",
       "      <th>987</th>\n",
       "      <th>988</th>\n",
       "      <th>989</th>\n",
       "    </tr>\n",
       "  </thead>\n",
       "  <tbody>\n",
       "    <tr>\n",
       "      <th>0</th>\n",
       "      <td>0.000001</td>\n",
       "      <td>1.243611e-11</td>\n",
       "      <td>0.000001</td>\n",
       "      <td>186.0</td>\n",
       "      <td>6.0</td>\n",
       "      <td>3.641133e-08</td>\n",
       "      <td>-7.506724e-11</td>\n",
       "      <td>5.641675e-08</td>\n",
       "      <td>4.507358e-08</td>\n",
       "      <td>9.879246e-15</td>\n",
       "      <td>...</td>\n",
       "      <td>49.93483</td>\n",
       "      <td>7.098348</td>\n",
       "      <td>1.945231</td>\n",
       "      <td>14.46606</td>\n",
       "      <td>-0.798927</td>\n",
       "      <td>0.0</td>\n",
       "      <td>2.023879</td>\n",
       "      <td>0.798927</td>\n",
       "      <td>2.023879</td>\n",
       "      <td>2.822806</td>\n",
       "    </tr>\n",
       "  </tbody>\n",
       "</table>\n",
       "<p>1 rows × 986 columns</p>\n",
       "</div>"
      ],
      "text/plain": [
       "        2             3         4      5    6             7             8    \\\n",
       "0  0.000001  1.243611e-11  0.000001  186.0  6.0  3.641133e-08 -7.506724e-11   \n",
       "\n",
       "            9             10            11     ...          980       981  \\\n",
       "0  5.641675e-08  4.507358e-08  9.879246e-15    ...     49.93483  7.098348   \n",
       "\n",
       "        982       983       984  985       986       987       988       989  \n",
       "0  1.945231  14.46606 -0.798927  0.0  2.023879  0.798927  2.023879  2.822806  \n",
       "\n",
       "[1 rows x 986 columns]"
      ]
     },
     "execution_count": 107,
     "metadata": {},
     "output_type": "execute_result"
    }
   ],
   "source": [
    "predict_new('/home/veerlosar/Downloads/ERHS/neutral_maria2.wav', svm2_pipeline)\n",
    "predict_new('/home/veerlosar/Downloads/ERHS/neutral_lalit.wav', svm2_pipeline)\n",
    "predict_new('/home/veerlosar/Downloads/ERHS/happy_maria.wav', svm2_pipeline)\n",
    "predict_new('/home/veerlosar/Downloads/ERHS/happy_lalit.wav', svm2_pipeline)"
   ]
  },
  {
   "cell_type": "code",
   "execution_count": 119,
   "metadata": {},
   "outputs": [],
   "source": [
    "acc = dict()\n",
    "cs = np.arange(0.25, 2.0, 0.10)\n",
    "for c in cs:\n",
    "    for n in range(2, 50, 4):\n",
    "        svm4_pipeline = make_pipeline(StandardScaler(), PCA(n_components=n), svm.SVC(C=c, kernel='poly', degree=2))\n",
    "        svm4_pipeline.fit(X3_train, y3_train)\n",
    "        acc[(c, n)] = (accuracy_score(y3_test, svm4_pipeline.predict(X3_test)))"
   ]
  },
  {
   "cell_type": "code",
   "execution_count": 130,
   "metadata": {},
   "outputs": [
    {
     "name": "stdout",
     "output_type": "stream",
     "text": [
      "0.9313725490196079\n"
     ]
    }
   ],
   "source": [
    "svm4_pipeline = make_pipeline(StandardScaler(), PCA(n_components=46), svm.SVC(C=1.35, kernel='poly', degree=2))\n",
    "svm4_pipeline.fit(X3_train, y3_train)\n",
    "print(accuracy_score(y3_test, svm4_pipeline.predict(X3_test)))"
   ]
  },
  {
   "cell_type": "code",
   "execution_count": null,
   "metadata": {},
   "outputs": [],
   "source": []
  },
  {
   "cell_type": "code",
   "execution_count": 134,
   "metadata": {},
   "outputs": [
    {
     "name": "stdout",
     "output_type": "stream",
     "text": [
      "[3.]\n",
      "[3.]\n",
      "[1.]\n",
      "[2.]\n"
     ]
    },
    {
     "data": {
      "text/html": [
       "<div>\n",
       "<style scoped>\n",
       "    .dataframe tbody tr th:only-of-type {\n",
       "        vertical-align: middle;\n",
       "    }\n",
       "\n",
       "    .dataframe tbody tr th {\n",
       "        vertical-align: top;\n",
       "    }\n",
       "\n",
       "    .dataframe thead th {\n",
       "        text-align: right;\n",
       "    }\n",
       "</style>\n",
       "<table border=\"1\" class=\"dataframe\">\n",
       "  <thead>\n",
       "    <tr style=\"text-align: right;\">\n",
       "      <th></th>\n",
       "      <th>2</th>\n",
       "      <th>3</th>\n",
       "      <th>4</th>\n",
       "      <th>5</th>\n",
       "      <th>6</th>\n",
       "      <th>7</th>\n",
       "      <th>8</th>\n",
       "      <th>9</th>\n",
       "      <th>10</th>\n",
       "      <th>11</th>\n",
       "      <th>...</th>\n",
       "      <th>980</th>\n",
       "      <th>981</th>\n",
       "      <th>982</th>\n",
       "      <th>983</th>\n",
       "      <th>984</th>\n",
       "      <th>985</th>\n",
       "      <th>986</th>\n",
       "      <th>987</th>\n",
       "      <th>988</th>\n",
       "      <th>989</th>\n",
       "    </tr>\n",
       "  </thead>\n",
       "  <tbody>\n",
       "    <tr>\n",
       "      <th>0</th>\n",
       "      <td>0.000001</td>\n",
       "      <td>1.243611e-11</td>\n",
       "      <td>0.000001</td>\n",
       "      <td>186.0</td>\n",
       "      <td>6.0</td>\n",
       "      <td>3.641133e-08</td>\n",
       "      <td>-7.506724e-11</td>\n",
       "      <td>5.641675e-08</td>\n",
       "      <td>4.507358e-08</td>\n",
       "      <td>9.879246e-15</td>\n",
       "      <td>...</td>\n",
       "      <td>49.93483</td>\n",
       "      <td>7.098348</td>\n",
       "      <td>1.945231</td>\n",
       "      <td>14.46606</td>\n",
       "      <td>-0.798927</td>\n",
       "      <td>0.0</td>\n",
       "      <td>2.023879</td>\n",
       "      <td>0.798927</td>\n",
       "      <td>2.023879</td>\n",
       "      <td>2.822806</td>\n",
       "    </tr>\n",
       "  </tbody>\n",
       "</table>\n",
       "<p>1 rows × 986 columns</p>\n",
       "</div>"
      ],
      "text/plain": [
       "        2             3         4      5    6             7             8    \\\n",
       "0  0.000001  1.243611e-11  0.000001  186.0  6.0  3.641133e-08 -7.506724e-11   \n",
       "\n",
       "            9             10            11     ...          980       981  \\\n",
       "0  5.641675e-08  4.507358e-08  9.879246e-15    ...     49.93483  7.098348   \n",
       "\n",
       "        982       983       984  985       986       987       988       989  \n",
       "0  1.945231  14.46606 -0.798927  0.0  2.023879  0.798927  2.023879  2.822806  \n",
       "\n",
       "[1 rows x 986 columns]"
      ]
     },
     "execution_count": 134,
     "metadata": {},
     "output_type": "execute_result"
    }
   ],
   "source": [
    "#3/4 when only 50 features left\n",
    "\n",
    "predict_new('/home/veerlosar/Downloads/ERHS/neutral_maria2.wav', svm4_pipeline)\n",
    "predict_new('/home/veerlosar/Downloads/ERHS/neutral_lalit.wav', svm4_pipeline)\n",
    "predict_new('/home/veerlosar/Downloads/ERHS/happy_maria.wav', svm4_pipeline)\n",
    "predict_new('/home/veerlosar/Downloads/ERHS/happy_lalit.wav', svm4_pipeline)"
   ]
  },
  {
   "cell_type": "code",
   "execution_count": null,
   "metadata": {},
   "outputs": [],
   "source": []
  },
  {
   "cell_type": "code",
   "execution_count": null,
   "metadata": {},
   "outputs": [],
   "source": []
  },
  {
   "cell_type": "code",
   "execution_count": null,
   "metadata": {},
   "outputs": [],
   "source": []
  },
  {
   "cell_type": "code",
   "execution_count": null,
   "metadata": {},
   "outputs": [],
   "source": []
  },
  {
   "cell_type": "code",
   "execution_count": null,
   "metadata": {},
   "outputs": [],
   "source": []
  },
  {
   "cell_type": "code",
   "execution_count": null,
   "metadata": {},
   "outputs": [],
   "source": []
  },
  {
   "cell_type": "code",
   "execution_count": null,
   "metadata": {},
   "outputs": [],
   "source": []
  },
  {
   "cell_type": "code",
   "execution_count": null,
   "metadata": {},
   "outputs": [],
   "source": []
  },
  {
   "cell_type": "code",
   "execution_count": null,
   "metadata": {},
   "outputs": [],
   "source": []
  },
  {
   "cell_type": "code",
   "execution_count": null,
   "metadata": {},
   "outputs": [],
   "source": []
  },
  {
   "cell_type": "code",
   "execution_count": null,
   "metadata": {},
   "outputs": [],
   "source": []
  },
  {
   "cell_type": "code",
   "execution_count": null,
   "metadata": {},
   "outputs": [],
   "source": []
  },
  {
   "cell_type": "code",
   "execution_count": null,
   "metadata": {},
   "outputs": [],
   "source": []
  },
  {
   "cell_type": "code",
   "execution_count": null,
   "metadata": {},
   "outputs": [],
   "source": []
  },
  {
   "cell_type": "code",
   "execution_count": null,
   "metadata": {},
   "outputs": [],
   "source": []
  },
  {
   "cell_type": "code",
   "execution_count": null,
   "metadata": {},
   "outputs": [],
   "source": []
  },
  {
   "cell_type": "code",
   "execution_count": null,
   "metadata": {},
   "outputs": [],
   "source": []
  },
  {
   "cell_type": "code",
   "execution_count": null,
   "metadata": {},
   "outputs": [],
   "source": []
  },
  {
   "cell_type": "code",
   "execution_count": null,
   "metadata": {},
   "outputs": [],
   "source": []
  },
  {
   "cell_type": "code",
   "execution_count": null,
   "metadata": {},
   "outputs": [],
   "source": []
  },
  {
   "cell_type": "code",
   "execution_count": null,
   "metadata": {},
   "outputs": [],
   "source": []
  },
  {
   "cell_type": "code",
   "execution_count": null,
   "metadata": {},
   "outputs": [],
   "source": []
  },
  {
   "cell_type": "code",
   "execution_count": null,
   "metadata": {},
   "outputs": [],
   "source": []
  }
 ],
 "metadata": {
  "kernelspec": {
   "display_name": "Python 3",
   "language": "python",
   "name": "python3"
  },
  "language_info": {
   "codemirror_mode": {
    "name": "ipython",
    "version": 3
   },
   "file_extension": ".py",
   "mimetype": "text/x-python",
   "name": "python",
   "nbconvert_exporter": "python",
   "pygments_lexer": "ipython3",
   "version": "3.7.0"
  }
 },
 "nbformat": 4,
 "nbformat_minor": 2
}
